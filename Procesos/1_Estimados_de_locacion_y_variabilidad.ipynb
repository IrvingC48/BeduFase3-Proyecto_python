{
 "metadata": {
  "language_info": {
   "codemirror_mode": {
    "name": "ipython",
    "version": 3
   },
   "file_extension": ".py",
   "mimetype": "text/x-python",
   "name": "python",
   "nbconvert_exporter": "python",
   "pygments_lexer": "ipython3",
   "version": "3.9.4"
  },
  "orig_nbformat": 2,
  "kernelspec": {
   "name": "python394jvsc74a57bd01fd0afac2d97bdb77e434e9960f49dec972ccff2716c35b4713b998ad53724a2",
   "display_name": "Python 3.9.4 64-bit (windows store)"
  },
  "metadata": {
   "interpreter": {
    "hash": "1fd0afac2d97bdb77e434e9960f49dec972ccff2716c35b4713b998ad53724a2"
   }
  }
 },
 "nbformat": 4,
 "nbformat_minor": 2,
 "cells": [
  {
   "source": [
    "# Obteniendo estimados de locación y variabilidad\n",
    "\n",
    "### OBJETIVO\n",
    "\n",
    "- Utilizar `estimados de locación y variabilidad` para describir las `columnas numéricas` de un dataset"
   ],
   "cell_type": "markdown",
   "metadata": {}
  },
  {
   "source": [
    "## Carga general de datos\n",
    "\n",
    "Para obtener nuestros estimados de locación y variabilidad, utilizaremos las siguientes librerias y funciones:\n",
    "\n",
    "**NOTA: Los datasets `depurado_melt` de cada partícula, fueron reajustados para este modulo. Los procedimientos los vemos [aquí](https://github.com/IrvingC48/BeduFase3-Proyecto_python/blob/main/Procesos/Pasos_Previos.ipynb)**"
   ],
   "cell_type": "markdown",
   "metadata": {}
  },
  {
   "cell_type": "code",
   "execution_count": 1,
   "metadata": {},
   "outputs": [],
   "source": [
    "from scipy import stats\n",
    "import pandas as pd\n",
    "import numpy as np"
   ]
  },
  {
   "cell_type": "code",
   "execution_count": 2,
   "metadata": {},
   "outputs": [],
   "source": [
    "# Nos calcula la media truncada al 10% de una columna x\n",
    "def trim_mean_10(x):\n",
    "    return stats.trim_mean(x, 0.1)"
   ]
  },
  {
   "cell_type": "code",
   "execution_count": 3,
   "metadata": {},
   "outputs": [],
   "source": [
    "# Nos calcula el percentil n de una columna x \n",
    "def percentile(n):\n",
    "    def percentile_(x):\n",
    "        return x.quantile(n)\n",
    "    return percentile_"
   ]
  },
  {
   "source": [
    "Vamos a realizar lo siguiente:\n",
    "\n",
    "- Cargar los documentos que validaremos, para obtener nuestros estimados\n",
    "- Normalizar la fecha en formato de `ns`"
   ],
   "cell_type": "markdown",
   "metadata": {}
  },
  {
   "cell_type": "code",
   "execution_count": 2,
   "metadata": {},
   "outputs": [],
   "source": [
    "df_PM10 = pd.read_csv('../Datasets/PM10/PM10_depurado_melt.csv', index_col=0)  #Data PM 10\n",
    "df_PM25 = pd.read_csv('../Datasets/PM2.5/PM25_depurado_melt.csv', index_col=0) #Data PM 2.5\n",
    "\n",
    "#Normalizamos fechas\n",
    "df_PM10['FECHA'] = pd.to_datetime(df_PM10['FECHA'], unit='ns') \n",
    "df_PM25['FECHA'] = pd.to_datetime(df_PM25['FECHA'], unit='ns')"
   ]
  },
  {
   "source": [
    "## Estimados de $PM_{10}$\n",
    "\n",
    "Comenzamos identificando las columnas numéricas en nuestro dataset de $PM_{10}$\n",
    "\n",
    "Observamos que tenemos las columnas `Year`, `Month`, `HORA` y `measurement` con datos estructurados, sin embargo, aunque las columnas `Year`, `Month` y `HORA` sean de tipo `int64`, sus datos son categóricos - ordinales.   \n",
    "\n",
    "Por lo tanto, la única columna con datos numéricos es `measurement`"
   ],
   "cell_type": "markdown",
   "metadata": {}
  },
  {
   "cell_type": "code",
   "execution_count": 5,
   "metadata": {},
   "outputs": [
    {
     "output_type": "execute_result",
     "data": {
      "text/plain": [
       "       FECHA  Year  Month  HORA station  measurement Zona\n",
       "0 2019-03-01  2019      3     1     ACO        119.0   NE\n",
       "1 2019-03-01  2019      3     2     ACO         90.0   NE\n",
       "2 2019-03-01  2019      3     3     ACO         81.0   NE\n",
       "3 2019-03-01  2019      3     4     ACO         65.0   NE\n",
       "4 2019-03-01  2019      3     5     ACO         53.0   NE"
      ],
      "text/html": "<div>\n<style scoped>\n    .dataframe tbody tr th:only-of-type {\n        vertical-align: middle;\n    }\n\n    .dataframe tbody tr th {\n        vertical-align: top;\n    }\n\n    .dataframe thead th {\n        text-align: right;\n    }\n</style>\n<table border=\"1\" class=\"dataframe\">\n  <thead>\n    <tr style=\"text-align: right;\">\n      <th></th>\n      <th>FECHA</th>\n      <th>Year</th>\n      <th>Month</th>\n      <th>HORA</th>\n      <th>station</th>\n      <th>measurement</th>\n      <th>Zona</th>\n    </tr>\n  </thead>\n  <tbody>\n    <tr>\n      <th>0</th>\n      <td>2019-03-01</td>\n      <td>2019</td>\n      <td>3</td>\n      <td>1</td>\n      <td>ACO</td>\n      <td>119.0</td>\n      <td>NE</td>\n    </tr>\n    <tr>\n      <th>1</th>\n      <td>2019-03-01</td>\n      <td>2019</td>\n      <td>3</td>\n      <td>2</td>\n      <td>ACO</td>\n      <td>90.0</td>\n      <td>NE</td>\n    </tr>\n    <tr>\n      <th>2</th>\n      <td>2019-03-01</td>\n      <td>2019</td>\n      <td>3</td>\n      <td>3</td>\n      <td>ACO</td>\n      <td>81.0</td>\n      <td>NE</td>\n    </tr>\n    <tr>\n      <th>3</th>\n      <td>2019-03-01</td>\n      <td>2019</td>\n      <td>3</td>\n      <td>4</td>\n      <td>ACO</td>\n      <td>65.0</td>\n      <td>NE</td>\n    </tr>\n    <tr>\n      <th>4</th>\n      <td>2019-03-01</td>\n      <td>2019</td>\n      <td>3</td>\n      <td>5</td>\n      <td>ACO</td>\n      <td>53.0</td>\n      <td>NE</td>\n    </tr>\n  </tbody>\n</table>\n</div>"
     },
     "metadata": {},
     "execution_count": 5
    }
   ],
   "source": [
    "df_PM10.head()"
   ]
  },
  {
   "cell_type": "code",
   "execution_count": 6,
   "metadata": {},
   "outputs": [
    {
     "output_type": "execute_result",
     "data": {
      "text/plain": [
       "FECHA          datetime64[ns]\n",
       "Year                    int64\n",
       "Month                   int64\n",
       "HORA                    int64\n",
       "station                object\n",
       "measurement           float64\n",
       "Zona                   object\n",
       "dtype: object"
      ]
     },
     "metadata": {},
     "execution_count": 6
    }
   ],
   "source": [
    "df_PM10.dtypes"
   ]
  },
  {
   "source": [
    "Una vez que hemos identificado nuestra columna numérica, vamos a validar los siguientes `estimados de locación y variabilidad`, esto a nivel `station` y `Zona`:\n",
    "\n",
    "    - Media o promedio\n",
    "    - Mediana\n",
    "    - Media truncada al 10%\n",
    "    - Desviación Estándar\n",
    "    - Dato Mínimo\n",
    "    - Percentil 25\n",
    "    - Percentil 50\n",
    "    - Percentil 75\n",
    "    - Dato Máxino\n",
    "    - Rango\n",
    "    - Rango Intercuartílico (IQR)"
   ],
   "cell_type": "markdown",
   "metadata": {}
  },
  {
   "cell_type": "code",
   "execution_count": 7,
   "metadata": {},
   "outputs": [
    {
     "output_type": "execute_result",
     "data": {
      "text/plain": [
       "             media  mediana  media_truncada  desv_estandar  minimo  \\\n",
       "station                                                              \n",
       "ACO      54.720721     51.0       52.126173      29.658719     1.0   \n",
       "AJM      41.337376     39.0       39.808137      20.494964     1.0   \n",
       "ATI      46.070516     41.0       42.740741      31.418856     1.0   \n",
       "BJU      35.687649     33.0       34.425299      16.706301     3.0   \n",
       "CAM      48.165970     45.0       46.241791      23.360021     3.0   \n",
       "CUA      38.789952     36.5       37.303328      19.740016     1.0   \n",
       "CUT      53.265523     45.0       48.640809      36.312806     1.0   \n",
       "FAC      42.130949     37.0       38.784431      28.872388     1.0   \n",
       "GAM      50.964950     47.0       49.110871      25.166116     3.0   \n",
       "HGM      47.227518     45.0       45.814610      21.029871     6.0   \n",
       "INN      30.128094     27.0       28.366589      17.287105     1.0   \n",
       "IZT      42.352492     40.0       41.223776      19.883542     1.0   \n",
       "MER      51.602682     49.0       49.914558      23.911752     3.0   \n",
       "PED      38.488872     36.0       36.575032      20.492787     1.0   \n",
       "SAG      56.920711     53.0       54.671648      27.190242     4.0   \n",
       "SFE      37.112583     34.0       34.995035      20.875125     2.0   \n",
       "TAH      58.682171     52.0       54.525020      38.358564     1.0   \n",
       "TLA      52.380769     49.0       50.243819      25.228607     1.0   \n",
       "UIZ      46.881280     44.0       45.632661      21.323203     4.0   \n",
       "VIF      54.281599     46.0       49.267415      40.482973     1.0   \n",
       "XAL      73.266959     67.0       69.282754      38.664301     5.0   \n",
       "\n",
       "         percentile_25  percentile_50  percentile_75  maximo  rango    IQR  \n",
       "station                                                                     \n",
       "ACO              36.00           51.0           69.0   626.0  625.0  33.00  \n",
       "AJM              27.00           39.0           52.0   199.0  198.0  25.00  \n",
       "ATI              26.00           41.0           59.0   598.0  597.0  33.00  \n",
       "BJU              24.00           33.0           46.0   136.0  133.0  22.00  \n",
       "CAM              31.00           45.0           61.0   253.0  250.0  30.00  \n",
       "CUA              25.00           36.5           50.0   244.0  243.0  25.00  \n",
       "CUT              30.00           45.0           68.0   387.0  386.0  38.00  \n",
       "FAC              22.00           37.0           55.0   392.0  391.0  33.00  \n",
       "GAM              33.00           47.0           66.0   165.0  162.0  33.00  \n",
       "HGM              32.00           45.0           59.0   165.0  159.0  27.00  \n",
       "INN              17.00           27.0           39.0   123.0  122.0  22.00  \n",
       "IZT              28.00           40.0           55.0   194.0  193.0  27.00  \n",
       "MER              34.00           49.0           66.0   219.0  216.0  32.00  \n",
       "PED              24.00           36.0           49.0   210.0  209.0  25.00  \n",
       "SAG              38.00           53.0           71.0   404.0  400.0  33.00  \n",
       "SFE              22.00           34.0           48.0   288.0  286.0  26.00  \n",
       "TAH              33.00           52.0           76.0   519.0  518.0  43.00  \n",
       "TLA              35.00           49.0           66.0   244.0  243.0  31.00  \n",
       "UIZ              31.75           44.0           60.0   195.0  191.0  28.25  \n",
       "VIF              28.00           46.0           70.0   615.0  614.0  42.00  \n",
       "XAL              46.00           67.0           93.0   308.0  303.0  47.00  "
      ],
      "text/html": "<div>\n<style scoped>\n    .dataframe tbody tr th:only-of-type {\n        vertical-align: middle;\n    }\n\n    .dataframe tbody tr th {\n        vertical-align: top;\n    }\n\n    .dataframe thead th {\n        text-align: right;\n    }\n</style>\n<table border=\"1\" class=\"dataframe\">\n  <thead>\n    <tr style=\"text-align: right;\">\n      <th></th>\n      <th>media</th>\n      <th>mediana</th>\n      <th>media_truncada</th>\n      <th>desv_estandar</th>\n      <th>minimo</th>\n      <th>percentile_25</th>\n      <th>percentile_50</th>\n      <th>percentile_75</th>\n      <th>maximo</th>\n      <th>rango</th>\n      <th>IQR</th>\n    </tr>\n    <tr>\n      <th>station</th>\n      <th></th>\n      <th></th>\n      <th></th>\n      <th></th>\n      <th></th>\n      <th></th>\n      <th></th>\n      <th></th>\n      <th></th>\n      <th></th>\n      <th></th>\n    </tr>\n  </thead>\n  <tbody>\n    <tr>\n      <th>ACO</th>\n      <td>54.720721</td>\n      <td>51.0</td>\n      <td>52.126173</td>\n      <td>29.658719</td>\n      <td>1.0</td>\n      <td>36.00</td>\n      <td>51.0</td>\n      <td>69.0</td>\n      <td>626.0</td>\n      <td>625.0</td>\n      <td>33.00</td>\n    </tr>\n    <tr>\n      <th>AJM</th>\n      <td>41.337376</td>\n      <td>39.0</td>\n      <td>39.808137</td>\n      <td>20.494964</td>\n      <td>1.0</td>\n      <td>27.00</td>\n      <td>39.0</td>\n      <td>52.0</td>\n      <td>199.0</td>\n      <td>198.0</td>\n      <td>25.00</td>\n    </tr>\n    <tr>\n      <th>ATI</th>\n      <td>46.070516</td>\n      <td>41.0</td>\n      <td>42.740741</td>\n      <td>31.418856</td>\n      <td>1.0</td>\n      <td>26.00</td>\n      <td>41.0</td>\n      <td>59.0</td>\n      <td>598.0</td>\n      <td>597.0</td>\n      <td>33.00</td>\n    </tr>\n    <tr>\n      <th>BJU</th>\n      <td>35.687649</td>\n      <td>33.0</td>\n      <td>34.425299</td>\n      <td>16.706301</td>\n      <td>3.0</td>\n      <td>24.00</td>\n      <td>33.0</td>\n      <td>46.0</td>\n      <td>136.0</td>\n      <td>133.0</td>\n      <td>22.00</td>\n    </tr>\n    <tr>\n      <th>CAM</th>\n      <td>48.165970</td>\n      <td>45.0</td>\n      <td>46.241791</td>\n      <td>23.360021</td>\n      <td>3.0</td>\n      <td>31.00</td>\n      <td>45.0</td>\n      <td>61.0</td>\n      <td>253.0</td>\n      <td>250.0</td>\n      <td>30.00</td>\n    </tr>\n    <tr>\n      <th>CUA</th>\n      <td>38.789952</td>\n      <td>36.5</td>\n      <td>37.303328</td>\n      <td>19.740016</td>\n      <td>1.0</td>\n      <td>25.00</td>\n      <td>36.5</td>\n      <td>50.0</td>\n      <td>244.0</td>\n      <td>243.0</td>\n      <td>25.00</td>\n    </tr>\n    <tr>\n      <th>CUT</th>\n      <td>53.265523</td>\n      <td>45.0</td>\n      <td>48.640809</td>\n      <td>36.312806</td>\n      <td>1.0</td>\n      <td>30.00</td>\n      <td>45.0</td>\n      <td>68.0</td>\n      <td>387.0</td>\n      <td>386.0</td>\n      <td>38.00</td>\n    </tr>\n    <tr>\n      <th>FAC</th>\n      <td>42.130949</td>\n      <td>37.0</td>\n      <td>38.784431</td>\n      <td>28.872388</td>\n      <td>1.0</td>\n      <td>22.00</td>\n      <td>37.0</td>\n      <td>55.0</td>\n      <td>392.0</td>\n      <td>391.0</td>\n      <td>33.00</td>\n    </tr>\n    <tr>\n      <th>GAM</th>\n      <td>50.964950</td>\n      <td>47.0</td>\n      <td>49.110871</td>\n      <td>25.166116</td>\n      <td>3.0</td>\n      <td>33.00</td>\n      <td>47.0</td>\n      <td>66.0</td>\n      <td>165.0</td>\n      <td>162.0</td>\n      <td>33.00</td>\n    </tr>\n    <tr>\n      <th>HGM</th>\n      <td>47.227518</td>\n      <td>45.0</td>\n      <td>45.814610</td>\n      <td>21.029871</td>\n      <td>6.0</td>\n      <td>32.00</td>\n      <td>45.0</td>\n      <td>59.0</td>\n      <td>165.0</td>\n      <td>159.0</td>\n      <td>27.00</td>\n    </tr>\n    <tr>\n      <th>INN</th>\n      <td>30.128094</td>\n      <td>27.0</td>\n      <td>28.366589</td>\n      <td>17.287105</td>\n      <td>1.0</td>\n      <td>17.00</td>\n      <td>27.0</td>\n      <td>39.0</td>\n      <td>123.0</td>\n      <td>122.0</td>\n      <td>22.00</td>\n    </tr>\n    <tr>\n      <th>IZT</th>\n      <td>42.352492</td>\n      <td>40.0</td>\n      <td>41.223776</td>\n      <td>19.883542</td>\n      <td>1.0</td>\n      <td>28.00</td>\n      <td>40.0</td>\n      <td>55.0</td>\n      <td>194.0</td>\n      <td>193.0</td>\n      <td>27.00</td>\n    </tr>\n    <tr>\n      <th>MER</th>\n      <td>51.602682</td>\n      <td>49.0</td>\n      <td>49.914558</td>\n      <td>23.911752</td>\n      <td>3.0</td>\n      <td>34.00</td>\n      <td>49.0</td>\n      <td>66.0</td>\n      <td>219.0</td>\n      <td>216.0</td>\n      <td>32.00</td>\n    </tr>\n    <tr>\n      <th>PED</th>\n      <td>38.488872</td>\n      <td>36.0</td>\n      <td>36.575032</td>\n      <td>20.492787</td>\n      <td>1.0</td>\n      <td>24.00</td>\n      <td>36.0</td>\n      <td>49.0</td>\n      <td>210.0</td>\n      <td>209.0</td>\n      <td>25.00</td>\n    </tr>\n    <tr>\n      <th>SAG</th>\n      <td>56.920711</td>\n      <td>53.0</td>\n      <td>54.671648</td>\n      <td>27.190242</td>\n      <td>4.0</td>\n      <td>38.00</td>\n      <td>53.0</td>\n      <td>71.0</td>\n      <td>404.0</td>\n      <td>400.0</td>\n      <td>33.00</td>\n    </tr>\n    <tr>\n      <th>SFE</th>\n      <td>37.112583</td>\n      <td>34.0</td>\n      <td>34.995035</td>\n      <td>20.875125</td>\n      <td>2.0</td>\n      <td>22.00</td>\n      <td>34.0</td>\n      <td>48.0</td>\n      <td>288.0</td>\n      <td>286.0</td>\n      <td>26.00</td>\n    </tr>\n    <tr>\n      <th>TAH</th>\n      <td>58.682171</td>\n      <td>52.0</td>\n      <td>54.525020</td>\n      <td>38.358564</td>\n      <td>1.0</td>\n      <td>33.00</td>\n      <td>52.0</td>\n      <td>76.0</td>\n      <td>519.0</td>\n      <td>518.0</td>\n      <td>43.00</td>\n    </tr>\n    <tr>\n      <th>TLA</th>\n      <td>52.380769</td>\n      <td>49.0</td>\n      <td>50.243819</td>\n      <td>25.228607</td>\n      <td>1.0</td>\n      <td>35.00</td>\n      <td>49.0</td>\n      <td>66.0</td>\n      <td>244.0</td>\n      <td>243.0</td>\n      <td>31.00</td>\n    </tr>\n    <tr>\n      <th>UIZ</th>\n      <td>46.881280</td>\n      <td>44.0</td>\n      <td>45.632661</td>\n      <td>21.323203</td>\n      <td>4.0</td>\n      <td>31.75</td>\n      <td>44.0</td>\n      <td>60.0</td>\n      <td>195.0</td>\n      <td>191.0</td>\n      <td>28.25</td>\n    </tr>\n    <tr>\n      <th>VIF</th>\n      <td>54.281599</td>\n      <td>46.0</td>\n      <td>49.267415</td>\n      <td>40.482973</td>\n      <td>1.0</td>\n      <td>28.00</td>\n      <td>46.0</td>\n      <td>70.0</td>\n      <td>615.0</td>\n      <td>614.0</td>\n      <td>42.00</td>\n    </tr>\n    <tr>\n      <th>XAL</th>\n      <td>73.266959</td>\n      <td>67.0</td>\n      <td>69.282754</td>\n      <td>38.664301</td>\n      <td>5.0</td>\n      <td>46.00</td>\n      <td>67.0</td>\n      <td>93.0</td>\n      <td>308.0</td>\n      <td>303.0</td>\n      <td>47.00</td>\n    </tr>\n  </tbody>\n</table>\n</div>"
     },
     "metadata": {},
     "execution_count": 7
    }
   ],
   "source": [
    "df_PM10.groupby('station').measurement.agg(\n",
    "    media='mean',\n",
    "    mediana='median',\n",
    "    media_truncada=trim_mean_10,\n",
    "    desv_estandar='std',\n",
    "    minimo='min',\n",
    "    percentile_25=percentile(0.25),\n",
    "    percentile_50=percentile(0.5),\n",
    "    percentile_75=percentile(0.75),\n",
    "    maximo='max',\n",
    "    rango=np.ptp, # max - min\n",
    "    IQR=stats.iqr\n",
    ")"
   ]
  },
  {
   "cell_type": "code",
   "execution_count": 8,
   "metadata": {},
   "outputs": [
    {
     "output_type": "execute_result",
     "data": {
      "text/plain": [
       "          media  mediana  media_truncada  desv_estandar  minimo  \\\n",
       "Zona                                                              \n",
       "CE    44.662785     42.0       43.026466      21.635150     1.0   \n",
       "NE    57.326681     52.0       53.889700      33.717891     1.0   \n",
       "NO    48.680533     44.0       45.538033      30.013797     1.0   \n",
       "SE    52.554503     47.0       49.322787      31.274101     1.0   \n",
       "SO    37.200543     34.0       35.399624      20.204603     1.0   \n",
       "\n",
       "      percentile_25  percentile_50  percentile_75  maximo  rango   IQR  \n",
       "Zona                                                                    \n",
       "CE             29.0           42.0           57.0   219.0  218.0  28.0  \n",
       "NE             35.0           52.0           73.0   626.0  625.0  38.0  \n",
       "NO             29.0           44.0           62.0   598.0  597.0  33.0  \n",
       "SE             32.0           47.0           67.0   519.0  518.0  35.0  \n",
       "SO             23.0           34.0           48.0   288.0  287.0  25.0  "
      ],
      "text/html": "<div>\n<style scoped>\n    .dataframe tbody tr th:only-of-type {\n        vertical-align: middle;\n    }\n\n    .dataframe tbody tr th {\n        vertical-align: top;\n    }\n\n    .dataframe thead th {\n        text-align: right;\n    }\n</style>\n<table border=\"1\" class=\"dataframe\">\n  <thead>\n    <tr style=\"text-align: right;\">\n      <th></th>\n      <th>media</th>\n      <th>mediana</th>\n      <th>media_truncada</th>\n      <th>desv_estandar</th>\n      <th>minimo</th>\n      <th>percentile_25</th>\n      <th>percentile_50</th>\n      <th>percentile_75</th>\n      <th>maximo</th>\n      <th>rango</th>\n      <th>IQR</th>\n    </tr>\n    <tr>\n      <th>Zona</th>\n      <th></th>\n      <th></th>\n      <th></th>\n      <th></th>\n      <th></th>\n      <th></th>\n      <th></th>\n      <th></th>\n      <th></th>\n      <th></th>\n      <th></th>\n    </tr>\n  </thead>\n  <tbody>\n    <tr>\n      <th>CE</th>\n      <td>44.662785</td>\n      <td>42.0</td>\n      <td>43.026466</td>\n      <td>21.635150</td>\n      <td>1.0</td>\n      <td>29.0</td>\n      <td>42.0</td>\n      <td>57.0</td>\n      <td>219.0</td>\n      <td>218.0</td>\n      <td>28.0</td>\n    </tr>\n    <tr>\n      <th>NE</th>\n      <td>57.326681</td>\n      <td>52.0</td>\n      <td>53.889700</td>\n      <td>33.717891</td>\n      <td>1.0</td>\n      <td>35.0</td>\n      <td>52.0</td>\n      <td>73.0</td>\n      <td>626.0</td>\n      <td>625.0</td>\n      <td>38.0</td>\n    </tr>\n    <tr>\n      <th>NO</th>\n      <td>48.680533</td>\n      <td>44.0</td>\n      <td>45.538033</td>\n      <td>30.013797</td>\n      <td>1.0</td>\n      <td>29.0</td>\n      <td>44.0</td>\n      <td>62.0</td>\n      <td>598.0</td>\n      <td>597.0</td>\n      <td>33.0</td>\n    </tr>\n    <tr>\n      <th>SE</th>\n      <td>52.554503</td>\n      <td>47.0</td>\n      <td>49.322787</td>\n      <td>31.274101</td>\n      <td>1.0</td>\n      <td>32.0</td>\n      <td>47.0</td>\n      <td>67.0</td>\n      <td>519.0</td>\n      <td>518.0</td>\n      <td>35.0</td>\n    </tr>\n    <tr>\n      <th>SO</th>\n      <td>37.200543</td>\n      <td>34.0</td>\n      <td>35.399624</td>\n      <td>20.204603</td>\n      <td>1.0</td>\n      <td>23.0</td>\n      <td>34.0</td>\n      <td>48.0</td>\n      <td>288.0</td>\n      <td>287.0</td>\n      <td>25.0</td>\n    </tr>\n  </tbody>\n</table>\n</div>"
     },
     "metadata": {},
     "execution_count": 8
    }
   ],
   "source": [
    "df_PM10.groupby('Zona').measurement.agg(\n",
    "    media='mean',\n",
    "    mediana='median',\n",
    "    media_truncada=trim_mean_10,\n",
    "    desv_estandar='std',\n",
    "    minimo='min',\n",
    "    percentile_25=percentile(0.25),\n",
    "    percentile_50=percentile(0.5),\n",
    "    percentile_75=percentile(0.75),\n",
    "    maximo='max',\n",
    "    rango=np.ptp, # max - min\n",
    "    IQR=stats.iqr\n",
    ")"
   ]
  },
  {
   "source": [
    "\n",
    "\n",
    "Con lo anterior, podemos analizar lo siguiente:\n",
    "\n",
    "- Nuestros `rangos` son muy amplios, comparados contra el IQR, esto por los datos atípicos `(outliders)` que contiene el dataset   \n",
    "- Vemos que nuestras `medias` no se encuentran tan alejadas de las `medianas`, lo que nos pareciera indicar que tenemos un `sesgo bajo`.\n",
    "- Como es de esperarse, la media truncada se aproxima más a la mediana, al quitar los valores del 5% de cada extremo de nuestros datos.\n",
    "- Contamos con desviaciones estándar amplias, pero inferiores a nuestra mediana. \n",
    "- Podemos apreciar que la mayoria de nuestros datos se encuentran cerca de la mediana  $\\pm$ 1 $\\sigma$, de acuerdo a los valores en los `percentiles 25 y 75`.\n",
    "- Las `estaciones` que contienen los rangos más elevados `(mayores a 400` $\\mu g/m^3$`)` son `ACO`, `ATI`, `SAG`, `TAH` y `VIF` (`Zonas` `NE`, `NO` y `SE`)."
   ],
   "cell_type": "markdown",
   "metadata": {}
  },
  {
   "source": [
    "## Estimados de $PM_{2.5}$\n",
    "Ahora identificaremos las columnas numéricas en nuestro dataset de $PM_{2.5}$\n",
    "\n",
    "Observamos que tenemos las columnas `Year`, `Month`, `HORA` y `measurement` con datos estructurados, sin embargo, aunque las columnas `Year`, `Month` y `HORA` sean de tipo `int64`, sus datos son categóricos - ordinales.   \n",
    "\n",
    "Por lo tanto, la única columna con datos numéricos es `measurement`"
   ],
   "cell_type": "markdown",
   "metadata": {}
  },
  {
   "cell_type": "code",
   "execution_count": 9,
   "metadata": {},
   "outputs": [
    {
     "output_type": "execute_result",
     "data": {
      "text/plain": [
       "       FECHA  Year  Month  HORA station  measurement Zona\n",
       "0 2019-03-01  2019      3     1     AJM          8.0   SO\n",
       "1 2019-03-01  2019      3     2     AJM         19.0   SO\n",
       "2 2019-03-01  2019      3     3     AJM         29.0   SO\n",
       "3 2019-03-01  2019      3     4     AJM         28.0   SO\n",
       "4 2019-03-01  2019      3     5     AJM         26.0   SO"
      ],
      "text/html": "<div>\n<style scoped>\n    .dataframe tbody tr th:only-of-type {\n        vertical-align: middle;\n    }\n\n    .dataframe tbody tr th {\n        vertical-align: top;\n    }\n\n    .dataframe thead th {\n        text-align: right;\n    }\n</style>\n<table border=\"1\" class=\"dataframe\">\n  <thead>\n    <tr style=\"text-align: right;\">\n      <th></th>\n      <th>FECHA</th>\n      <th>Year</th>\n      <th>Month</th>\n      <th>HORA</th>\n      <th>station</th>\n      <th>measurement</th>\n      <th>Zona</th>\n    </tr>\n  </thead>\n  <tbody>\n    <tr>\n      <th>0</th>\n      <td>2019-03-01</td>\n      <td>2019</td>\n      <td>3</td>\n      <td>1</td>\n      <td>AJM</td>\n      <td>8.0</td>\n      <td>SO</td>\n    </tr>\n    <tr>\n      <th>1</th>\n      <td>2019-03-01</td>\n      <td>2019</td>\n      <td>3</td>\n      <td>2</td>\n      <td>AJM</td>\n      <td>19.0</td>\n      <td>SO</td>\n    </tr>\n    <tr>\n      <th>2</th>\n      <td>2019-03-01</td>\n      <td>2019</td>\n      <td>3</td>\n      <td>3</td>\n      <td>AJM</td>\n      <td>29.0</td>\n      <td>SO</td>\n    </tr>\n    <tr>\n      <th>3</th>\n      <td>2019-03-01</td>\n      <td>2019</td>\n      <td>3</td>\n      <td>4</td>\n      <td>AJM</td>\n      <td>28.0</td>\n      <td>SO</td>\n    </tr>\n    <tr>\n      <th>4</th>\n      <td>2019-03-01</td>\n      <td>2019</td>\n      <td>3</td>\n      <td>5</td>\n      <td>AJM</td>\n      <td>26.0</td>\n      <td>SO</td>\n    </tr>\n  </tbody>\n</table>\n</div>"
     },
     "metadata": {},
     "execution_count": 9
    }
   ],
   "source": [
    "df_PM25.head()"
   ]
  },
  {
   "cell_type": "code",
   "execution_count": 10,
   "metadata": {},
   "outputs": [
    {
     "output_type": "execute_result",
     "data": {
      "text/plain": [
       "FECHA          datetime64[ns]\n",
       "Year                    int64\n",
       "Month                   int64\n",
       "HORA                    int64\n",
       "station                object\n",
       "measurement           float64\n",
       "Zona                   object\n",
       "dtype: object"
      ]
     },
     "metadata": {},
     "execution_count": 10
    }
   ],
   "source": [
    "df_PM25.dtypes"
   ]
  },
  {
   "source": [
    "Una vez que hemos identificado nuestra columna numérica, vamos a validar los siguientes `estimados de locación y variabilidad`, esto a nivel `station` y `Zona`:\n",
    "\n",
    "    - Media o promedio\n",
    "    - Mediana\n",
    "    - Media truncada al 10%\n",
    "    - Desviación Estándar\n",
    "    - Dato Mínimo\n",
    "    - Percentil 25\n",
    "    - Percentil 50\n",
    "    - Percentil 75\n",
    "    - Dato Máxino\n",
    "    - Rango\n",
    "    - Rango Intercuartílico (IQR)"
   ],
   "cell_type": "markdown",
   "metadata": {}
  },
  {
   "cell_type": "code",
   "execution_count": 11,
   "metadata": {},
   "outputs": [
    {
     "output_type": "execute_result",
     "data": {
      "text/plain": [
       "             media  mediana  media_truncada  desv_estandar  minimo  \\\n",
       "station                                                              \n",
       "AJM      22.341845     20.0       21.033107      12.983176     1.0   \n",
       "AJU      25.559804     21.0       22.412990      20.502523     1.0   \n",
       "BJU      20.978671     20.0       20.195184      10.944799     1.0   \n",
       "CAM      26.034954     24.0       24.837766      14.271623     1.0   \n",
       "CCA      23.803096     22.0       22.411125      14.142493     1.0   \n",
       "FAR      23.027175     21.0       21.770957      13.642844     1.0   \n",
       "GAM      27.289732     25.0       25.716518      16.113335     1.0   \n",
       "HGM      28.605897     26.0       26.946593      16.184560     1.0   \n",
       "INN      17.832124     16.0       16.772172      10.286040     1.0   \n",
       "MER      25.979094     24.0       24.861642      14.384460     1.0   \n",
       "MON      26.773951     23.0       24.421401      18.207533     1.0   \n",
       "NEZ      29.692078     27.0       27.790258      18.172698     1.0   \n",
       "PED      23.366509     21.0       21.847368      14.146640     1.0   \n",
       "SAC      30.207704     28.0       28.449902      17.548136     1.0   \n",
       "SAG      25.003845     23.0       24.147226      13.435432     1.0   \n",
       "SFE      20.451752     18.0       19.074798      12.368858     1.0   \n",
       "TLA      25.692243     24.0       24.628981      14.149925     1.0   \n",
       "UAX      23.473392     21.0       21.775194      15.115013     1.0   \n",
       "UIZ      24.385843     23.0       23.354669      13.389575     1.0   \n",
       "XAL      28.474866     25.0       26.765996      16.994785     1.0   \n",
       "\n",
       "         percentile_25  percentile_50  percentile_75  maximo  rango   IQR  \n",
       "station                                                                    \n",
       "AJM               13.0           20.0           29.0   117.0  116.0  16.0  \n",
       "AJU               13.0           21.0           32.0   198.0  197.0  19.0  \n",
       "BJU               13.0           20.0           28.0    66.0   65.0  15.0  \n",
       "CAM               16.0           24.0           34.0   119.0  118.0  18.0  \n",
       "CCA               14.0           22.0           30.0   138.0  137.0  16.0  \n",
       "FAR               13.0           21.0           31.0   113.0  112.0  18.0  \n",
       "GAM               15.0           25.0           36.0   106.0  105.0  21.0  \n",
       "HGM               17.0           26.0           36.0   132.0  131.0  19.0  \n",
       "INN               10.0           16.0           23.0    88.0   87.0  13.0  \n",
       "MER               16.0           24.0           34.0   109.0  108.0  18.0  \n",
       "MON               14.0           23.0           35.0   227.0  226.0  21.0  \n",
       "NEZ               18.0           27.0           38.0   206.0  205.0  20.0  \n",
       "PED               13.0           21.0           30.0   125.0  124.0  17.0  \n",
       "SAC               18.0           28.0           39.0   211.0  210.0  21.0  \n",
       "SAG               15.0           23.0           33.0   126.0  125.0  18.0  \n",
       "SFE               12.0           18.0           26.0   103.0  102.0  14.0  \n",
       "TLA               15.0           24.0           34.0    89.0   88.0  19.0  \n",
       "UAX               13.0           21.0           30.0   138.0  137.0  17.0  \n",
       "UIZ               14.0           23.0           32.0   145.0  144.0  18.0  \n",
       "XAL               16.0           25.0           38.0   115.0  114.0  22.0  "
      ],
      "text/html": "<div>\n<style scoped>\n    .dataframe tbody tr th:only-of-type {\n        vertical-align: middle;\n    }\n\n    .dataframe tbody tr th {\n        vertical-align: top;\n    }\n\n    .dataframe thead th {\n        text-align: right;\n    }\n</style>\n<table border=\"1\" class=\"dataframe\">\n  <thead>\n    <tr style=\"text-align: right;\">\n      <th></th>\n      <th>media</th>\n      <th>mediana</th>\n      <th>media_truncada</th>\n      <th>desv_estandar</th>\n      <th>minimo</th>\n      <th>percentile_25</th>\n      <th>percentile_50</th>\n      <th>percentile_75</th>\n      <th>maximo</th>\n      <th>rango</th>\n      <th>IQR</th>\n    </tr>\n    <tr>\n      <th>station</th>\n      <th></th>\n      <th></th>\n      <th></th>\n      <th></th>\n      <th></th>\n      <th></th>\n      <th></th>\n      <th></th>\n      <th></th>\n      <th></th>\n      <th></th>\n    </tr>\n  </thead>\n  <tbody>\n    <tr>\n      <th>AJM</th>\n      <td>22.341845</td>\n      <td>20.0</td>\n      <td>21.033107</td>\n      <td>12.983176</td>\n      <td>1.0</td>\n      <td>13.0</td>\n      <td>20.0</td>\n      <td>29.0</td>\n      <td>117.0</td>\n      <td>116.0</td>\n      <td>16.0</td>\n    </tr>\n    <tr>\n      <th>AJU</th>\n      <td>25.559804</td>\n      <td>21.0</td>\n      <td>22.412990</td>\n      <td>20.502523</td>\n      <td>1.0</td>\n      <td>13.0</td>\n      <td>21.0</td>\n      <td>32.0</td>\n      <td>198.0</td>\n      <td>197.0</td>\n      <td>19.0</td>\n    </tr>\n    <tr>\n      <th>BJU</th>\n      <td>20.978671</td>\n      <td>20.0</td>\n      <td>20.195184</td>\n      <td>10.944799</td>\n      <td>1.0</td>\n      <td>13.0</td>\n      <td>20.0</td>\n      <td>28.0</td>\n      <td>66.0</td>\n      <td>65.0</td>\n      <td>15.0</td>\n    </tr>\n    <tr>\n      <th>CAM</th>\n      <td>26.034954</td>\n      <td>24.0</td>\n      <td>24.837766</td>\n      <td>14.271623</td>\n      <td>1.0</td>\n      <td>16.0</td>\n      <td>24.0</td>\n      <td>34.0</td>\n      <td>119.0</td>\n      <td>118.0</td>\n      <td>18.0</td>\n    </tr>\n    <tr>\n      <th>CCA</th>\n      <td>23.803096</td>\n      <td>22.0</td>\n      <td>22.411125</td>\n      <td>14.142493</td>\n      <td>1.0</td>\n      <td>14.0</td>\n      <td>22.0</td>\n      <td>30.0</td>\n      <td>138.0</td>\n      <td>137.0</td>\n      <td>16.0</td>\n    </tr>\n    <tr>\n      <th>FAR</th>\n      <td>23.027175</td>\n      <td>21.0</td>\n      <td>21.770957</td>\n      <td>13.642844</td>\n      <td>1.0</td>\n      <td>13.0</td>\n      <td>21.0</td>\n      <td>31.0</td>\n      <td>113.0</td>\n      <td>112.0</td>\n      <td>18.0</td>\n    </tr>\n    <tr>\n      <th>GAM</th>\n      <td>27.289732</td>\n      <td>25.0</td>\n      <td>25.716518</td>\n      <td>16.113335</td>\n      <td>1.0</td>\n      <td>15.0</td>\n      <td>25.0</td>\n      <td>36.0</td>\n      <td>106.0</td>\n      <td>105.0</td>\n      <td>21.0</td>\n    </tr>\n    <tr>\n      <th>HGM</th>\n      <td>28.605897</td>\n      <td>26.0</td>\n      <td>26.946593</td>\n      <td>16.184560</td>\n      <td>1.0</td>\n      <td>17.0</td>\n      <td>26.0</td>\n      <td>36.0</td>\n      <td>132.0</td>\n      <td>131.0</td>\n      <td>19.0</td>\n    </tr>\n    <tr>\n      <th>INN</th>\n      <td>17.832124</td>\n      <td>16.0</td>\n      <td>16.772172</td>\n      <td>10.286040</td>\n      <td>1.0</td>\n      <td>10.0</td>\n      <td>16.0</td>\n      <td>23.0</td>\n      <td>88.0</td>\n      <td>87.0</td>\n      <td>13.0</td>\n    </tr>\n    <tr>\n      <th>MER</th>\n      <td>25.979094</td>\n      <td>24.0</td>\n      <td>24.861642</td>\n      <td>14.384460</td>\n      <td>1.0</td>\n      <td>16.0</td>\n      <td>24.0</td>\n      <td>34.0</td>\n      <td>109.0</td>\n      <td>108.0</td>\n      <td>18.0</td>\n    </tr>\n    <tr>\n      <th>MON</th>\n      <td>26.773951</td>\n      <td>23.0</td>\n      <td>24.421401</td>\n      <td>18.207533</td>\n      <td>1.0</td>\n      <td>14.0</td>\n      <td>23.0</td>\n      <td>35.0</td>\n      <td>227.0</td>\n      <td>226.0</td>\n      <td>21.0</td>\n    </tr>\n    <tr>\n      <th>NEZ</th>\n      <td>29.692078</td>\n      <td>27.0</td>\n      <td>27.790258</td>\n      <td>18.172698</td>\n      <td>1.0</td>\n      <td>18.0</td>\n      <td>27.0</td>\n      <td>38.0</td>\n      <td>206.0</td>\n      <td>205.0</td>\n      <td>20.0</td>\n    </tr>\n    <tr>\n      <th>PED</th>\n      <td>23.366509</td>\n      <td>21.0</td>\n      <td>21.847368</td>\n      <td>14.146640</td>\n      <td>1.0</td>\n      <td>13.0</td>\n      <td>21.0</td>\n      <td>30.0</td>\n      <td>125.0</td>\n      <td>124.0</td>\n      <td>17.0</td>\n    </tr>\n    <tr>\n      <th>SAC</th>\n      <td>30.207704</td>\n      <td>28.0</td>\n      <td>28.449902</td>\n      <td>17.548136</td>\n      <td>1.0</td>\n      <td>18.0</td>\n      <td>28.0</td>\n      <td>39.0</td>\n      <td>211.0</td>\n      <td>210.0</td>\n      <td>21.0</td>\n    </tr>\n    <tr>\n      <th>SAG</th>\n      <td>25.003845</td>\n      <td>23.0</td>\n      <td>24.147226</td>\n      <td>13.435432</td>\n      <td>1.0</td>\n      <td>15.0</td>\n      <td>23.0</td>\n      <td>33.0</td>\n      <td>126.0</td>\n      <td>125.0</td>\n      <td>18.0</td>\n    </tr>\n    <tr>\n      <th>SFE</th>\n      <td>20.451752</td>\n      <td>18.0</td>\n      <td>19.074798</td>\n      <td>12.368858</td>\n      <td>1.0</td>\n      <td>12.0</td>\n      <td>18.0</td>\n      <td>26.0</td>\n      <td>103.0</td>\n      <td>102.0</td>\n      <td>14.0</td>\n    </tr>\n    <tr>\n      <th>TLA</th>\n      <td>25.692243</td>\n      <td>24.0</td>\n      <td>24.628981</td>\n      <td>14.149925</td>\n      <td>1.0</td>\n      <td>15.0</td>\n      <td>24.0</td>\n      <td>34.0</td>\n      <td>89.0</td>\n      <td>88.0</td>\n      <td>19.0</td>\n    </tr>\n    <tr>\n      <th>UAX</th>\n      <td>23.473392</td>\n      <td>21.0</td>\n      <td>21.775194</td>\n      <td>15.115013</td>\n      <td>1.0</td>\n      <td>13.0</td>\n      <td>21.0</td>\n      <td>30.0</td>\n      <td>138.0</td>\n      <td>137.0</td>\n      <td>17.0</td>\n    </tr>\n    <tr>\n      <th>UIZ</th>\n      <td>24.385843</td>\n      <td>23.0</td>\n      <td>23.354669</td>\n      <td>13.389575</td>\n      <td>1.0</td>\n      <td>14.0</td>\n      <td>23.0</td>\n      <td>32.0</td>\n      <td>145.0</td>\n      <td>144.0</td>\n      <td>18.0</td>\n    </tr>\n    <tr>\n      <th>XAL</th>\n      <td>28.474866</td>\n      <td>25.0</td>\n      <td>26.765996</td>\n      <td>16.994785</td>\n      <td>1.0</td>\n      <td>16.0</td>\n      <td>25.0</td>\n      <td>38.0</td>\n      <td>115.0</td>\n      <td>114.0</td>\n      <td>22.0</td>\n    </tr>\n  </tbody>\n</table>\n</div>"
     },
     "metadata": {},
     "execution_count": 11
    }
   ],
   "source": [
    "df_PM25.groupby('station').measurement.agg(\n",
    "    media='mean',\n",
    "    mediana='median',\n",
    "    media_truncada=trim_mean_10,\n",
    "    desv_estandar='std',\n",
    "    minimo='min',\n",
    "    percentile_25=percentile(0.25),\n",
    "    percentile_50=percentile(0.5),\n",
    "    percentile_75=percentile(0.75),\n",
    "    maximo='max',\n",
    "    rango=np.ptp, # max - min\n",
    "    IQR=stats.iqr\n",
    ")"
   ]
  },
  {
   "cell_type": "code",
   "execution_count": 12,
   "metadata": {},
   "outputs": [
    {
     "output_type": "execute_result",
     "data": {
      "text/plain": [
       "          media  mediana  media_truncada  desv_estandar  minimo  \\\n",
       "Zona                                                              \n",
       "CE    25.144686     23.0       23.887112      14.250272     1.0   \n",
       "NE    26.561909     24.0       24.907112      16.271988     1.0   \n",
       "NO    25.856581     24.0       24.729823      14.208408     1.0   \n",
       "SE    26.300049     24.0       24.690991      15.862894     1.0   \n",
       "SO    22.101331     20.0       20.495934      14.121012     1.0   \n",
       "\n",
       "      percentile_25  percentile_50  percentile_75  maximo  rango   IQR  \n",
       "Zona                                                                    \n",
       "CE             15.0           23.0           33.0   132.0  131.0  18.0  \n",
       "NE             15.0           24.0           35.0   227.0  226.0  20.0  \n",
       "NO             16.0           24.0           34.0   119.0  118.0  18.0  \n",
       "SE             15.0           24.0           34.0   211.0  210.0  19.0  \n",
       "SO             12.0           20.0           28.0   198.0  197.0  16.0  "
      ],
      "text/html": "<div>\n<style scoped>\n    .dataframe tbody tr th:only-of-type {\n        vertical-align: middle;\n    }\n\n    .dataframe tbody tr th {\n        vertical-align: top;\n    }\n\n    .dataframe thead th {\n        text-align: right;\n    }\n</style>\n<table border=\"1\" class=\"dataframe\">\n  <thead>\n    <tr style=\"text-align: right;\">\n      <th></th>\n      <th>media</th>\n      <th>mediana</th>\n      <th>media_truncada</th>\n      <th>desv_estandar</th>\n      <th>minimo</th>\n      <th>percentile_25</th>\n      <th>percentile_50</th>\n      <th>percentile_75</th>\n      <th>maximo</th>\n      <th>rango</th>\n      <th>IQR</th>\n    </tr>\n    <tr>\n      <th>Zona</th>\n      <th></th>\n      <th></th>\n      <th></th>\n      <th></th>\n      <th></th>\n      <th></th>\n      <th></th>\n      <th></th>\n      <th></th>\n      <th></th>\n      <th></th>\n    </tr>\n  </thead>\n  <tbody>\n    <tr>\n      <th>CE</th>\n      <td>25.144686</td>\n      <td>23.0</td>\n      <td>23.887112</td>\n      <td>14.250272</td>\n      <td>1.0</td>\n      <td>15.0</td>\n      <td>23.0</td>\n      <td>33.0</td>\n      <td>132.0</td>\n      <td>131.0</td>\n      <td>18.0</td>\n    </tr>\n    <tr>\n      <th>NE</th>\n      <td>26.561909</td>\n      <td>24.0</td>\n      <td>24.907112</td>\n      <td>16.271988</td>\n      <td>1.0</td>\n      <td>15.0</td>\n      <td>24.0</td>\n      <td>35.0</td>\n      <td>227.0</td>\n      <td>226.0</td>\n      <td>20.0</td>\n    </tr>\n    <tr>\n      <th>NO</th>\n      <td>25.856581</td>\n      <td>24.0</td>\n      <td>24.729823</td>\n      <td>14.208408</td>\n      <td>1.0</td>\n      <td>16.0</td>\n      <td>24.0</td>\n      <td>34.0</td>\n      <td>119.0</td>\n      <td>118.0</td>\n      <td>18.0</td>\n    </tr>\n    <tr>\n      <th>SE</th>\n      <td>26.300049</td>\n      <td>24.0</td>\n      <td>24.690991</td>\n      <td>15.862894</td>\n      <td>1.0</td>\n      <td>15.0</td>\n      <td>24.0</td>\n      <td>34.0</td>\n      <td>211.0</td>\n      <td>210.0</td>\n      <td>19.0</td>\n    </tr>\n    <tr>\n      <th>SO</th>\n      <td>22.101331</td>\n      <td>20.0</td>\n      <td>20.495934</td>\n      <td>14.121012</td>\n      <td>1.0</td>\n      <td>12.0</td>\n      <td>20.0</td>\n      <td>28.0</td>\n      <td>198.0</td>\n      <td>197.0</td>\n      <td>16.0</td>\n    </tr>\n  </tbody>\n</table>\n</div>"
     },
     "metadata": {},
     "execution_count": 12
    }
   ],
   "source": [
    "df_PM25.groupby('Zona').measurement.agg(\n",
    "    media='mean',\n",
    "    mediana='median',\n",
    "    media_truncada=trim_mean_10,\n",
    "    desv_estandar='std',\n",
    "    minimo='min',\n",
    "    percentile_25=percentile(0.25),\n",
    "    percentile_50=percentile(0.5),\n",
    "    percentile_75=percentile(0.75),\n",
    "    maximo='max',\n",
    "    rango=np.ptp, # max - min\n",
    "    IQR=stats.iqr\n",
    ")"
   ]
  },
  {
   "source": [
    "### Conclusión $PM_{2.5}$\n",
    "\n",
    "Con lo anterior, podemos analizar lo siguiente:\n",
    "\n",
    "- Nuestros `rangos` son muy amplios, comparados contra el IQR, esto por los datos atípicos `(outliders)` que contiene el dataset   \n",
    "- Vemos que nuestras `medias` no se encuentran tan alejadas de las `medianas`, lo que nos pareciera indicar que tenemos un `sesgo bajo`.\n",
    "- Como es de esperarse, la media truncada se aproxima más a la mediana, al quitar los valores del 5% de cada extremo de nuestros datos.\n",
    "- Contamos con desviaciones estándar amplias, pero inferiores a nuestra mediana. \n",
    "- Podemos apreciar que la mayoria de nuestros datos se encuentran cerca de la mediana  $\\pm$ 1 $\\sigma$, de acuerdo a los valores en los `percentiles 25 y 75`.\n",
    "- Las `estaciones` que contienen los rangos más elevados `(mayores a 150` $\\mu g/m^3$`)` son `AJU`, `NEZ`, `SAC` (`Zonas` `SO`, `NE` y `SE`)."
   ],
   "cell_type": "markdown",
   "metadata": {}
  }
 ]
}