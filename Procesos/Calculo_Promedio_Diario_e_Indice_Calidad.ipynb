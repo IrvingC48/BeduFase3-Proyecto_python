{
 "metadata": {
  "language_info": {
   "codemirror_mode": {
    "name": "ipython",
    "version": 3
   },
   "file_extension": ".py",
   "mimetype": "text/x-python",
   "name": "python",
   "nbconvert_exporter": "python",
   "pygments_lexer": "ipython3",
   "version": "3.9.4"
  },
  "orig_nbformat": 2,
  "kernelspec": {
   "name": "python394jvsc74a57bd01fd0afac2d97bdb77e434e9960f49dec972ccff2716c35b4713b998ad53724a2",
   "display_name": "Python 3.9.4 64-bit (windows store)"
  },
  "metadata": {
   "interpreter": {
    "hash": "1fd0afac2d97bdb77e434e9960f49dec972ccff2716c35b4713b998ad53724a2"
   }
  }
 },
 "nbformat": 4,
 "nbformat_minor": 2,
 "cells": [
  {
   "source": [
    "# Cálculo de Promedio Diario y Calidad del aire\n",
    "\n",
    "Ahora que ya tenemos nuestros datasets sin outliders, ya podemos calcular nuestro promedio diario y el índice de calidad del aire para cada partícula."
   ],
   "cell_type": "markdown",
   "metadata": {}
  },
  {
   "source": [
    "## Carga general de datos\n",
    "\n",
    "Para obtener nuestros cálculos, utilizaremos las siguientes librerias y funciones:"
   ],
   "cell_type": "markdown",
   "metadata": {}
  },
  {
   "cell_type": "code",
   "execution_count": 1,
   "metadata": {},
   "outputs": [],
   "source": [
    "import pandas as pd\n",
    "import numpy as np"
   ]
  },
  {
   "cell_type": "code",
   "execution_count": 2,
   "metadata": {},
   "outputs": [],
   "source": [
    "#Determina el índice de calidad del aire según la metodología y los valores de la tabla descrita en el apartado Metodología\n",
    "def AQI(df):\n",
    "    CP = df['PromDiario']\n",
    "    i = 0\n",
    "\n",
    "    if 0 <= CP <= 40:\n",
    "        k = (50-0)/(40-0)\n",
    "        i = k * (CP - 0) + 0\n",
    "    if 41 <= CP <= 75:\n",
    "        k = (100-51)/(75-41)\n",
    "        i = k * (CP - 41) + 51\n",
    "    if 76 <= CP <= 214:\n",
    "        k = (150-101)/(214-76)\n",
    "        i = k * (CP - 76) + 101\n",
    "    if 215 <= CP <= 354:\n",
    "        k = (200-151)/(354-215)\n",
    "        i = k * (CP - 215) + 151\n",
    "    if 355 <= CP <= 424:\n",
    "        k = (300-201)/(242-355)\n",
    "        i = k * (CP - 355) + 201\n",
    "    if 425 <= CP <= 504:\n",
    "        k = (400-301)/(504-425)\n",
    "        i = k * (CP - 425) + 301\n",
    "    if 505 <= CP <= 604:\n",
    "        k = (500-401)/(604-505)\n",
    "        i = k * (CP - 505) + 401\n",
    "    \n",
    "    return round(i, 3)"
   ]
  },
  {
   "cell_type": "code",
   "execution_count": 3,
   "metadata": {},
   "outputs": [],
   "source": [
    "# Determina la categoría de calidad del aire descrita por la norma mexicana\n",
    "def AQI_categoria(df):\n",
    "    indice = df['Indice']\n",
    "    if indice <= 50:\n",
    "      clase='Buena'\n",
    "    elif indice <= 100:\n",
    "      clase='Regular'\n",
    "    elif indice <= 150:\n",
    "      clase= 'Mala'\n",
    "    elif indice <= 200:\n",
    "      clase = 'Muy mala'\n",
    "    else: \n",
    "      clase = 'Extremadamente mala'\n",
    "    \n",
    "    return clase"
   ]
  },
  {
   "cell_type": "code",
   "execution_count": 4,
   "metadata": {},
   "outputs": [],
   "source": [
    "def dia_estacion_valido(dataframe):\n",
    "  #Contar las mediciones horarias por día y estación\n",
    "  filtro= dataframe.groupby(['FECHA', 'station'],as_index=False).agg(N_h=('HORA','count'))\n",
    "  #Filtrar aquellas que no cumplen normativa\n",
    "  filtro= filtro.query('N_h < 17')\n",
    "  #Conservar las columnas de fecha y estación\n",
    "  filtro=filtro.loc[:,['FECHA','station']]\n",
    "  #Eliminar del dataframe original las mediciones que no cumplen normativa\n",
    "  filtro=pd.merge(dataframe,filtro, how='outer', indicator=True)\n",
    "  filtro=filtro[filtro['_merge'] == 'left_only']\n",
    "  return filtro"
   ]
  },
  {
   "source": [
    "Vamos a realizar lo siguiente:\n",
    "\n",
    "- Cargar los documentos que validaremos, para hacer los respectivos cálculos"
   ],
   "cell_type": "markdown",
   "metadata": {}
  },
  {
   "cell_type": "code",
   "execution_count": 5,
   "metadata": {},
   "outputs": [],
   "source": [
    "#Cargando archivos\n",
    "df_PM10 = pd.read_csv('../Datasets/PM10/PM10_depurado_melt_no_outlier.csv')\n",
    "df_PM25 = pd.read_csv('../Datasets/PM2.5/PM25_depurado_melt_no_outlier.csv')\n",
    "\n",
    "# Normalizando fechas\n",
    "df_PM10['FECHA'] = pd.to_datetime(df_PM10['FECHA'], unit='ns')\n",
    "df_PM25['FECHA'] = pd.to_datetime(df_PM25['FECHA'], unit='ns')"
   ]
  },
  {
   "source": [
    "## Cálculos $PM_{10}$\n",
    "\n",
    "Ahora se busca eliminar, según el día y la estación, aquellas filas que tengan mediciones horarias menores a las requeridas por la normativa (18 mediciones). Por ejemplo, si la estación ACO en el 01 de enero de 2019 registró solamente 15 mediciones horarias, todas las mediciones de ese día para la estación ACO no será tomadas en cuenta para los posteriores análisis. "
   ],
   "cell_type": "markdown",
   "metadata": {}
  },
  {
   "cell_type": "code",
   "execution_count": 6,
   "metadata": {},
   "outputs": [
    {
     "output_type": "execute_result",
     "data": {
      "text/plain": [
       "   Unnamed: 0      FECHA  Year  Month  HORA station  measurement Zona\n",
       "0           1 2019-03-01  2019      3     2     ACO         90.0   NE\n",
       "1           2 2019-03-01  2019      3     3     ACO         81.0   NE\n",
       "2           3 2019-03-01  2019      3     4     ACO         65.0   NE\n",
       "3           4 2019-03-01  2019      3     5     ACO         53.0   NE\n",
       "4           5 2019-03-01  2019      3     6     ACO         52.0   NE"
      ],
      "text/html": "<div>\n<style scoped>\n    .dataframe tbody tr th:only-of-type {\n        vertical-align: middle;\n    }\n\n    .dataframe tbody tr th {\n        vertical-align: top;\n    }\n\n    .dataframe thead th {\n        text-align: right;\n    }\n</style>\n<table border=\"1\" class=\"dataframe\">\n  <thead>\n    <tr style=\"text-align: right;\">\n      <th></th>\n      <th>Unnamed: 0</th>\n      <th>FECHA</th>\n      <th>Year</th>\n      <th>Month</th>\n      <th>HORA</th>\n      <th>station</th>\n      <th>measurement</th>\n      <th>Zona</th>\n    </tr>\n  </thead>\n  <tbody>\n    <tr>\n      <th>0</th>\n      <td>1</td>\n      <td>2019-03-01</td>\n      <td>2019</td>\n      <td>3</td>\n      <td>2</td>\n      <td>ACO</td>\n      <td>90.0</td>\n      <td>NE</td>\n    </tr>\n    <tr>\n      <th>1</th>\n      <td>2</td>\n      <td>2019-03-01</td>\n      <td>2019</td>\n      <td>3</td>\n      <td>3</td>\n      <td>ACO</td>\n      <td>81.0</td>\n      <td>NE</td>\n    </tr>\n    <tr>\n      <th>2</th>\n      <td>3</td>\n      <td>2019-03-01</td>\n      <td>2019</td>\n      <td>3</td>\n      <td>4</td>\n      <td>ACO</td>\n      <td>65.0</td>\n      <td>NE</td>\n    </tr>\n    <tr>\n      <th>3</th>\n      <td>4</td>\n      <td>2019-03-01</td>\n      <td>2019</td>\n      <td>3</td>\n      <td>5</td>\n      <td>ACO</td>\n      <td>53.0</td>\n      <td>NE</td>\n    </tr>\n    <tr>\n      <th>4</th>\n      <td>5</td>\n      <td>2019-03-01</td>\n      <td>2019</td>\n      <td>3</td>\n      <td>6</td>\n      <td>ACO</td>\n      <td>52.0</td>\n      <td>NE</td>\n    </tr>\n  </tbody>\n</table>\n</div>"
     },
     "metadata": {},
     "execution_count": 6
    }
   ],
   "source": [
    "df_filtrado= dia_estacion_valido(df_PM10)\n",
    "df_filtrado = df_filtrado.drop(columns=['_merge'])\n",
    "df_filtrado=df_filtrado.reset_index()\n",
    "df_filtrado = df_filtrado.drop(columns=['index'])\n",
    "df_filtrado.head()"
   ]
  },
  {
   "source": [
    "### Calculando el promedio diario\n",
    "Para el cálculo del promedio diario de $PM_{10}$ se utilizó la metodología descrita en la `NOM-025-SSA1-2014`, siguiendo la siguiente ecuación:\n",
    "\n",
    "$$\\bar{x}= \\frac{1}{n} \\displaystyle\\sum_{i=1}^n x_i$$\n",
    "$\\bar{x}:$ promedio de 24 horas, \n",
    "\n",
    "$n:$ número de concentraciones horarias válidas\n",
    "\n",
    "$x_i:$ concentraciones horarias válidas\n",
    "\n",
    "- Camo datos extra obteniendo los valores mínimos y máximos"
   ],
   "cell_type": "markdown",
   "metadata": {}
  },
  {
   "cell_type": "code",
   "execution_count": 7,
   "metadata": {},
   "outputs": [
    {
     "output_type": "execute_result",
     "data": {
      "text/plain": [
       "       FECHA  Year  Month Zona  PromDiario    Max   Min\n",
       "0 2019-03-01  2019      3   CE        56.0  101.0  23.0\n",
       "1 2019-03-01  2019      3   NE        81.0  161.0  37.0\n",
       "2 2019-03-01  2019      3   NO        63.0  112.0  21.0\n",
       "3 2019-03-01  2019      3   SE        56.0  111.0   8.0\n",
       "4 2019-03-01  2019      3   SO        38.0   85.0   3.0"
      ],
      "text/html": "<div>\n<style scoped>\n    .dataframe tbody tr th:only-of-type {\n        vertical-align: middle;\n    }\n\n    .dataframe tbody tr th {\n        vertical-align: top;\n    }\n\n    .dataframe thead th {\n        text-align: right;\n    }\n</style>\n<table border=\"1\" class=\"dataframe\">\n  <thead>\n    <tr style=\"text-align: right;\">\n      <th></th>\n      <th>FECHA</th>\n      <th>Year</th>\n      <th>Month</th>\n      <th>Zona</th>\n      <th>PromDiario</th>\n      <th>Max</th>\n      <th>Min</th>\n    </tr>\n  </thead>\n  <tbody>\n    <tr>\n      <th>0</th>\n      <td>2019-03-01</td>\n      <td>2019</td>\n      <td>3</td>\n      <td>CE</td>\n      <td>56.0</td>\n      <td>101.0</td>\n      <td>23.0</td>\n    </tr>\n    <tr>\n      <th>1</th>\n      <td>2019-03-01</td>\n      <td>2019</td>\n      <td>3</td>\n      <td>NE</td>\n      <td>81.0</td>\n      <td>161.0</td>\n      <td>37.0</td>\n    </tr>\n    <tr>\n      <th>2</th>\n      <td>2019-03-01</td>\n      <td>2019</td>\n      <td>3</td>\n      <td>NO</td>\n      <td>63.0</td>\n      <td>112.0</td>\n      <td>21.0</td>\n    </tr>\n    <tr>\n      <th>3</th>\n      <td>2019-03-01</td>\n      <td>2019</td>\n      <td>3</td>\n      <td>SE</td>\n      <td>56.0</td>\n      <td>111.0</td>\n      <td>8.0</td>\n    </tr>\n    <tr>\n      <th>4</th>\n      <td>2019-03-01</td>\n      <td>2019</td>\n      <td>3</td>\n      <td>SO</td>\n      <td>38.0</td>\n      <td>85.0</td>\n      <td>3.0</td>\n    </tr>\n  </tbody>\n</table>\n</div>"
     },
     "metadata": {},
     "execution_count": 7
    }
   ],
   "source": [
    "df_PM1024h = df_filtrado.groupby(['FECHA', 'Year', 'Month', 'Zona'], as_index=False).agg(\n",
    "            PromDiario=('measurement', lambda x: round(x.mean(),0)), \n",
    "            Max = ('measurement', 'max'),\n",
    "            Min = ('measurement', 'min'))\n",
    "df_PM1024h.head()"
   ]
  },
  {
   "source": [
    "### Calculando Índice de calidad del aire\n",
    "\n",
    "Donde:\n",
    "$$\\text{Índice}= (k \\times (C - BP_{Lo}))+I_{Lo}$$\n",
    "$$k= \\frac{I_{Hi}-I_{Lo}}{BP_{Hi}-BP_{Lo}}$$\n",
    " \n",
    "$\\text{Índice}:$ Valor del índice para el contaminante deseado.<br>\n",
    "$C:$ valor redondeado para la concentración del contaminante.<br>\n",
    "$k:$ constante de proporcionalidad estimada.<br>\n",
    "$BP_{Hi}:$ valor del punto de corte que es mayor o igual a la concentración a evaluar.<br>\n",
    "$BP_{Lo}:$ valor del punto de corte que es menor o igual a la concentración a evaluar.<br>\n",
    "$I_{Hi}:$ valor del índice que corresponde al valor de $BP_{Hi}$<br>\n",
    "$I_{Lo}:$ valor del índice que corresponde al valor de $BP_{Lo}$<br>"
   ],
   "cell_type": "markdown",
   "metadata": {}
  },
  {
   "cell_type": "code",
   "execution_count": 8,
   "metadata": {},
   "outputs": [
    {
     "output_type": "execute_result",
     "data": {
      "text/plain": [
       "       FECHA  Year  Month Zona  PromDiario    Max   Min   Indice\n",
       "0 2019-03-01  2019      3   CE        56.0  101.0  23.0   72.618\n",
       "1 2019-03-01  2019      3   NE        81.0  161.0  37.0  102.775\n",
       "2 2019-03-01  2019      3   NO        63.0  112.0  21.0   82.706\n",
       "3 2019-03-01  2019      3   SE        56.0  111.0   8.0   72.618\n",
       "4 2019-03-01  2019      3   SO        38.0   85.0   3.0   47.500"
      ],
      "text/html": "<div>\n<style scoped>\n    .dataframe tbody tr th:only-of-type {\n        vertical-align: middle;\n    }\n\n    .dataframe tbody tr th {\n        vertical-align: top;\n    }\n\n    .dataframe thead th {\n        text-align: right;\n    }\n</style>\n<table border=\"1\" class=\"dataframe\">\n  <thead>\n    <tr style=\"text-align: right;\">\n      <th></th>\n      <th>FECHA</th>\n      <th>Year</th>\n      <th>Month</th>\n      <th>Zona</th>\n      <th>PromDiario</th>\n      <th>Max</th>\n      <th>Min</th>\n      <th>Indice</th>\n    </tr>\n  </thead>\n  <tbody>\n    <tr>\n      <th>0</th>\n      <td>2019-03-01</td>\n      <td>2019</td>\n      <td>3</td>\n      <td>CE</td>\n      <td>56.0</td>\n      <td>101.0</td>\n      <td>23.0</td>\n      <td>72.618</td>\n    </tr>\n    <tr>\n      <th>1</th>\n      <td>2019-03-01</td>\n      <td>2019</td>\n      <td>3</td>\n      <td>NE</td>\n      <td>81.0</td>\n      <td>161.0</td>\n      <td>37.0</td>\n      <td>102.775</td>\n    </tr>\n    <tr>\n      <th>2</th>\n      <td>2019-03-01</td>\n      <td>2019</td>\n      <td>3</td>\n      <td>NO</td>\n      <td>63.0</td>\n      <td>112.0</td>\n      <td>21.0</td>\n      <td>82.706</td>\n    </tr>\n    <tr>\n      <th>3</th>\n      <td>2019-03-01</td>\n      <td>2019</td>\n      <td>3</td>\n      <td>SE</td>\n      <td>56.0</td>\n      <td>111.0</td>\n      <td>8.0</td>\n      <td>72.618</td>\n    </tr>\n    <tr>\n      <th>4</th>\n      <td>2019-03-01</td>\n      <td>2019</td>\n      <td>3</td>\n      <td>SO</td>\n      <td>38.0</td>\n      <td>85.0</td>\n      <td>3.0</td>\n      <td>47.500</td>\n    </tr>\n  </tbody>\n</table>\n</div>"
     },
     "metadata": {},
     "execution_count": 8
    }
   ],
   "source": [
    "df_PM1024h['Indice'] = df_PM1024h.apply(AQI, axis=1)\n",
    "df_PM1024h.head()"
   ]
  },
  {
   "source": [
    "Se aplica la función para determinar la categoría a cada promedio diario calculado."
   ],
   "cell_type": "markdown",
   "metadata": {}
  },
  {
   "cell_type": "code",
   "execution_count": 9,
   "metadata": {},
   "outputs": [
    {
     "output_type": "execute_result",
     "data": {
      "text/plain": [
       "       FECHA  Year  Month Zona  PromDiario    Max   Min   Indice    Clase\n",
       "0 2019-03-01  2019      3   CE        56.0  101.0  23.0   72.618  Regular\n",
       "1 2019-03-01  2019      3   NE        81.0  161.0  37.0  102.775     Mala\n",
       "2 2019-03-01  2019      3   NO        63.0  112.0  21.0   82.706  Regular\n",
       "3 2019-03-01  2019      3   SE        56.0  111.0   8.0   72.618  Regular\n",
       "4 2019-03-01  2019      3   SO        38.0   85.0   3.0   47.500    Buena"
      ],
      "text/html": "<div>\n<style scoped>\n    .dataframe tbody tr th:only-of-type {\n        vertical-align: middle;\n    }\n\n    .dataframe tbody tr th {\n        vertical-align: top;\n    }\n\n    .dataframe thead th {\n        text-align: right;\n    }\n</style>\n<table border=\"1\" class=\"dataframe\">\n  <thead>\n    <tr style=\"text-align: right;\">\n      <th></th>\n      <th>FECHA</th>\n      <th>Year</th>\n      <th>Month</th>\n      <th>Zona</th>\n      <th>PromDiario</th>\n      <th>Max</th>\n      <th>Min</th>\n      <th>Indice</th>\n      <th>Clase</th>\n    </tr>\n  </thead>\n  <tbody>\n    <tr>\n      <th>0</th>\n      <td>2019-03-01</td>\n      <td>2019</td>\n      <td>3</td>\n      <td>CE</td>\n      <td>56.0</td>\n      <td>101.0</td>\n      <td>23.0</td>\n      <td>72.618</td>\n      <td>Regular</td>\n    </tr>\n    <tr>\n      <th>1</th>\n      <td>2019-03-01</td>\n      <td>2019</td>\n      <td>3</td>\n      <td>NE</td>\n      <td>81.0</td>\n      <td>161.0</td>\n      <td>37.0</td>\n      <td>102.775</td>\n      <td>Mala</td>\n    </tr>\n    <tr>\n      <th>2</th>\n      <td>2019-03-01</td>\n      <td>2019</td>\n      <td>3</td>\n      <td>NO</td>\n      <td>63.0</td>\n      <td>112.0</td>\n      <td>21.0</td>\n      <td>82.706</td>\n      <td>Regular</td>\n    </tr>\n    <tr>\n      <th>3</th>\n      <td>2019-03-01</td>\n      <td>2019</td>\n      <td>3</td>\n      <td>SE</td>\n      <td>56.0</td>\n      <td>111.0</td>\n      <td>8.0</td>\n      <td>72.618</td>\n      <td>Regular</td>\n    </tr>\n    <tr>\n      <th>4</th>\n      <td>2019-03-01</td>\n      <td>2019</td>\n      <td>3</td>\n      <td>SO</td>\n      <td>38.0</td>\n      <td>85.0</td>\n      <td>3.0</td>\n      <td>47.500</td>\n      <td>Buena</td>\n    </tr>\n  </tbody>\n</table>\n</div>"
     },
     "metadata": {},
     "execution_count": 9
    }
   ],
   "source": [
    "df_PM1024h['Clase'] = df_PM1024h.apply(AQI_categoria, axis=1)\n",
    "df_PM1024h.head()"
   ]
  },
  {
   "source": [
    "Se guardan los resultados en un csv"
   ],
   "cell_type": "markdown",
   "metadata": {}
  },
  {
   "cell_type": "code",
   "execution_count": 10,
   "metadata": {},
   "outputs": [],
   "source": [
    "df_PM1024h.to_csv('../Datasets/PM10/PDZona_PM10.csv', index=False)"
   ]
  },
  {
   "source": [
    "## Cálculos $PM_{2.5}$\n",
    "\n",
    "Ahora se busca eliminar, para está partícula, aquellas filas que tengan mediciones horarias menores a las requeridas por la normativa (18 mediciones)."
   ],
   "cell_type": "markdown",
   "metadata": {}
  },
  {
   "cell_type": "code",
   "execution_count": 11,
   "metadata": {},
   "outputs": [
    {
     "output_type": "execute_result",
     "data": {
      "text/plain": [
       "   Unnamed: 0      FECHA  Year  Month  HORA station  measurement Zona\n",
       "0           0 2019-03-01  2019      3     1     AJM          8.0   SO\n",
       "1           1 2019-03-01  2019      3     2     AJM         19.0   SO\n",
       "2           2 2019-03-01  2019      3     3     AJM         29.0   SO\n",
       "3           3 2019-03-01  2019      3     4     AJM         28.0   SO\n",
       "4           4 2019-03-01  2019      3     5     AJM         26.0   SO"
      ],
      "text/html": "<div>\n<style scoped>\n    .dataframe tbody tr th:only-of-type {\n        vertical-align: middle;\n    }\n\n    .dataframe tbody tr th {\n        vertical-align: top;\n    }\n\n    .dataframe thead th {\n        text-align: right;\n    }\n</style>\n<table border=\"1\" class=\"dataframe\">\n  <thead>\n    <tr style=\"text-align: right;\">\n      <th></th>\n      <th>Unnamed: 0</th>\n      <th>FECHA</th>\n      <th>Year</th>\n      <th>Month</th>\n      <th>HORA</th>\n      <th>station</th>\n      <th>measurement</th>\n      <th>Zona</th>\n    </tr>\n  </thead>\n  <tbody>\n    <tr>\n      <th>0</th>\n      <td>0</td>\n      <td>2019-03-01</td>\n      <td>2019</td>\n      <td>3</td>\n      <td>1</td>\n      <td>AJM</td>\n      <td>8.0</td>\n      <td>SO</td>\n    </tr>\n    <tr>\n      <th>1</th>\n      <td>1</td>\n      <td>2019-03-01</td>\n      <td>2019</td>\n      <td>3</td>\n      <td>2</td>\n      <td>AJM</td>\n      <td>19.0</td>\n      <td>SO</td>\n    </tr>\n    <tr>\n      <th>2</th>\n      <td>2</td>\n      <td>2019-03-01</td>\n      <td>2019</td>\n      <td>3</td>\n      <td>3</td>\n      <td>AJM</td>\n      <td>29.0</td>\n      <td>SO</td>\n    </tr>\n    <tr>\n      <th>3</th>\n      <td>3</td>\n      <td>2019-03-01</td>\n      <td>2019</td>\n      <td>3</td>\n      <td>4</td>\n      <td>AJM</td>\n      <td>28.0</td>\n      <td>SO</td>\n    </tr>\n    <tr>\n      <th>4</th>\n      <td>4</td>\n      <td>2019-03-01</td>\n      <td>2019</td>\n      <td>3</td>\n      <td>5</td>\n      <td>AJM</td>\n      <td>26.0</td>\n      <td>SO</td>\n    </tr>\n  </tbody>\n</table>\n</div>"
     },
     "metadata": {},
     "execution_count": 11
    }
   ],
   "source": [
    "df_filtrado= dia_estacion_valido(df_PM25)\n",
    "df_filtrado = df_filtrado.drop(columns=['_merge'])\n",
    "df_filtrado=df_filtrado.reset_index()\n",
    "df_filtrado = df_filtrado.drop(columns=['index'])\n",
    "df_filtrado.head()"
   ]
  },
  {
   "source": [
    "### Calculando el promedio diario\n",
    "Para el cálculo del promedio diario de $PM_{2.5}$ se utilizó la metodología descrita en la `NOM-025-SSA1-2014`, siguiendo la siguiente ecuación:\n",
    "\n",
    "$$\\bar{x}= \\frac{1}{n} \\displaystyle\\sum_{i=1}^n x_i$$\n",
    "$\\bar{x}:$ promedio de 24 horas, \n",
    "\n",
    "$n:$ número de concentraciones horarias válidas\n",
    "\n",
    "$x_i:$ concentraciones horarias válidas\n",
    "\n",
    "- Camo datos extra obteniendo los valores mínimos y máximos"
   ],
   "cell_type": "markdown",
   "metadata": {}
  },
  {
   "cell_type": "code",
   "execution_count": 12,
   "metadata": {},
   "outputs": [
    {
     "output_type": "execute_result",
     "data": {
      "text/plain": [
       "       FECHA  Year  Month Zona  PromDiario   Max   Min\n",
       "0 2019-03-01  2019      3   CE        27.0  55.0   8.0\n",
       "1 2019-03-01  2019      3   NE        32.2  62.0   1.0\n",
       "2 2019-03-01  2019      3   NO        35.1  61.0  12.0\n",
       "3 2019-03-01  2019      3   SE        24.4  47.0   6.0\n",
       "4 2019-03-01  2019      3   SO        20.3  44.0   1.0"
      ],
      "text/html": "<div>\n<style scoped>\n    .dataframe tbody tr th:only-of-type {\n        vertical-align: middle;\n    }\n\n    .dataframe tbody tr th {\n        vertical-align: top;\n    }\n\n    .dataframe thead th {\n        text-align: right;\n    }\n</style>\n<table border=\"1\" class=\"dataframe\">\n  <thead>\n    <tr style=\"text-align: right;\">\n      <th></th>\n      <th>FECHA</th>\n      <th>Year</th>\n      <th>Month</th>\n      <th>Zona</th>\n      <th>PromDiario</th>\n      <th>Max</th>\n      <th>Min</th>\n    </tr>\n  </thead>\n  <tbody>\n    <tr>\n      <th>0</th>\n      <td>2019-03-01</td>\n      <td>2019</td>\n      <td>3</td>\n      <td>CE</td>\n      <td>27.0</td>\n      <td>55.0</td>\n      <td>8.0</td>\n    </tr>\n    <tr>\n      <th>1</th>\n      <td>2019-03-01</td>\n      <td>2019</td>\n      <td>3</td>\n      <td>NE</td>\n      <td>32.2</td>\n      <td>62.0</td>\n      <td>1.0</td>\n    </tr>\n    <tr>\n      <th>2</th>\n      <td>2019-03-01</td>\n      <td>2019</td>\n      <td>3</td>\n      <td>NO</td>\n      <td>35.1</td>\n      <td>61.0</td>\n      <td>12.0</td>\n    </tr>\n    <tr>\n      <th>3</th>\n      <td>2019-03-01</td>\n      <td>2019</td>\n      <td>3</td>\n      <td>SE</td>\n      <td>24.4</td>\n      <td>47.0</td>\n      <td>6.0</td>\n    </tr>\n    <tr>\n      <th>4</th>\n      <td>2019-03-01</td>\n      <td>2019</td>\n      <td>3</td>\n      <td>SO</td>\n      <td>20.3</td>\n      <td>44.0</td>\n      <td>1.0</td>\n    </tr>\n  </tbody>\n</table>\n</div>"
     },
     "metadata": {},
     "execution_count": 12
    }
   ],
   "source": [
    "df_PM2524h = df_filtrado.groupby(['FECHA', 'Year', 'Month', 'Zona'], as_index=False).agg(PromDiario=('measurement', lambda x: round(x.mean(),1)), #En este caso, se redondea a un decimal\n",
    "                                                                    Max = ('measurement', 'max'),\n",
    "                                                                    Min = ('measurement', 'min'))\n",
    "df_PM2524h.head()"
   ]
  },
  {
   "source": [
    "### Calculando Índice de calidad del aire\n",
    "\n",
    "Donde:\n",
    "$$\\text{Índice}= (k \\times (C - BP_{Lo}))+I_{Lo}$$\n",
    "$$k= \\frac{I_{Hi}-I_{Lo}}{BP_{Hi}-BP_{Lo}}$$\n",
    " \n",
    "$\\text{Índice}:$ Valor del índice para el contaminante deseado.<br>\n",
    "$C:$ valor redondeado para la concentración del contaminante.<br>\n",
    "$k:$ constante de proporcionalidad estimada.<br>\n",
    "$BP_{Hi}:$ valor del punto de corte que es mayor o igual a la concentración a evaluar.<br>\n",
    "$BP_{Lo}:$ valor del punto de corte que es menor o igual a la concentración a evaluar.<br>\n",
    "$I_{Hi}:$ valor del índice que corresponde al valor de $BP_{Hi}$<br>\n",
    "$I_{Lo}:$ valor del índice que corresponde al valor de $BP_{Lo}$<br>"
   ],
   "cell_type": "markdown",
   "metadata": {}
  },
  {
   "cell_type": "code",
   "execution_count": 13,
   "metadata": {},
   "outputs": [
    {
     "output_type": "execute_result",
     "data": {
      "text/plain": [
       "       FECHA  Year  Month Zona  PromDiario   Max   Min  Indice\n",
       "0 2019-03-01  2019      3   CE        27.0  55.0   8.0  33.750\n",
       "1 2019-03-01  2019      3   NE        32.2  62.0   1.0  40.250\n",
       "2 2019-03-01  2019      3   NO        35.1  61.0  12.0  43.875\n",
       "3 2019-03-01  2019      3   SE        24.4  47.0   6.0  30.500\n",
       "4 2019-03-01  2019      3   SO        20.3  44.0   1.0  25.375"
      ],
      "text/html": "<div>\n<style scoped>\n    .dataframe tbody tr th:only-of-type {\n        vertical-align: middle;\n    }\n\n    .dataframe tbody tr th {\n        vertical-align: top;\n    }\n\n    .dataframe thead th {\n        text-align: right;\n    }\n</style>\n<table border=\"1\" class=\"dataframe\">\n  <thead>\n    <tr style=\"text-align: right;\">\n      <th></th>\n      <th>FECHA</th>\n      <th>Year</th>\n      <th>Month</th>\n      <th>Zona</th>\n      <th>PromDiario</th>\n      <th>Max</th>\n      <th>Min</th>\n      <th>Indice</th>\n    </tr>\n  </thead>\n  <tbody>\n    <tr>\n      <th>0</th>\n      <td>2019-03-01</td>\n      <td>2019</td>\n      <td>3</td>\n      <td>CE</td>\n      <td>27.0</td>\n      <td>55.0</td>\n      <td>8.0</td>\n      <td>33.750</td>\n    </tr>\n    <tr>\n      <th>1</th>\n      <td>2019-03-01</td>\n      <td>2019</td>\n      <td>3</td>\n      <td>NE</td>\n      <td>32.2</td>\n      <td>62.0</td>\n      <td>1.0</td>\n      <td>40.250</td>\n    </tr>\n    <tr>\n      <th>2</th>\n      <td>2019-03-01</td>\n      <td>2019</td>\n      <td>3</td>\n      <td>NO</td>\n      <td>35.1</td>\n      <td>61.0</td>\n      <td>12.0</td>\n      <td>43.875</td>\n    </tr>\n    <tr>\n      <th>3</th>\n      <td>2019-03-01</td>\n      <td>2019</td>\n      <td>3</td>\n      <td>SE</td>\n      <td>24.4</td>\n      <td>47.0</td>\n      <td>6.0</td>\n      <td>30.500</td>\n    </tr>\n    <tr>\n      <th>4</th>\n      <td>2019-03-01</td>\n      <td>2019</td>\n      <td>3</td>\n      <td>SO</td>\n      <td>20.3</td>\n      <td>44.0</td>\n      <td>1.0</td>\n      <td>25.375</td>\n    </tr>\n  </tbody>\n</table>\n</div>"
     },
     "metadata": {},
     "execution_count": 13
    }
   ],
   "source": [
    "df_PM2524h['Indice'] = df_PM2524h.apply(AQI, axis=1)\n",
    "df_PM2524h.head()"
   ]
  },
  {
   "source": [
    "Se aplica la función para determinar la categoría a cada promedio diario calculado."
   ],
   "cell_type": "markdown",
   "metadata": {}
  },
  {
   "cell_type": "code",
   "execution_count": 14,
   "metadata": {},
   "outputs": [
    {
     "output_type": "execute_result",
     "data": {
      "text/plain": [
       "       FECHA  Year  Month Zona  PromDiario   Max   Min  Indice  Clase\n",
       "0 2019-03-01  2019      3   CE        27.0  55.0   8.0  33.750  Buena\n",
       "1 2019-03-01  2019      3   NE        32.2  62.0   1.0  40.250  Buena\n",
       "2 2019-03-01  2019      3   NO        35.1  61.0  12.0  43.875  Buena\n",
       "3 2019-03-01  2019      3   SE        24.4  47.0   6.0  30.500  Buena\n",
       "4 2019-03-01  2019      3   SO        20.3  44.0   1.0  25.375  Buena"
      ],
      "text/html": "<div>\n<style scoped>\n    .dataframe tbody tr th:only-of-type {\n        vertical-align: middle;\n    }\n\n    .dataframe tbody tr th {\n        vertical-align: top;\n    }\n\n    .dataframe thead th {\n        text-align: right;\n    }\n</style>\n<table border=\"1\" class=\"dataframe\">\n  <thead>\n    <tr style=\"text-align: right;\">\n      <th></th>\n      <th>FECHA</th>\n      <th>Year</th>\n      <th>Month</th>\n      <th>Zona</th>\n      <th>PromDiario</th>\n      <th>Max</th>\n      <th>Min</th>\n      <th>Indice</th>\n      <th>Clase</th>\n    </tr>\n  </thead>\n  <tbody>\n    <tr>\n      <th>0</th>\n      <td>2019-03-01</td>\n      <td>2019</td>\n      <td>3</td>\n      <td>CE</td>\n      <td>27.0</td>\n      <td>55.0</td>\n      <td>8.0</td>\n      <td>33.750</td>\n      <td>Buena</td>\n    </tr>\n    <tr>\n      <th>1</th>\n      <td>2019-03-01</td>\n      <td>2019</td>\n      <td>3</td>\n      <td>NE</td>\n      <td>32.2</td>\n      <td>62.0</td>\n      <td>1.0</td>\n      <td>40.250</td>\n      <td>Buena</td>\n    </tr>\n    <tr>\n      <th>2</th>\n      <td>2019-03-01</td>\n      <td>2019</td>\n      <td>3</td>\n      <td>NO</td>\n      <td>35.1</td>\n      <td>61.0</td>\n      <td>12.0</td>\n      <td>43.875</td>\n      <td>Buena</td>\n    </tr>\n    <tr>\n      <th>3</th>\n      <td>2019-03-01</td>\n      <td>2019</td>\n      <td>3</td>\n      <td>SE</td>\n      <td>24.4</td>\n      <td>47.0</td>\n      <td>6.0</td>\n      <td>30.500</td>\n      <td>Buena</td>\n    </tr>\n    <tr>\n      <th>4</th>\n      <td>2019-03-01</td>\n      <td>2019</td>\n      <td>3</td>\n      <td>SO</td>\n      <td>20.3</td>\n      <td>44.0</td>\n      <td>1.0</td>\n      <td>25.375</td>\n      <td>Buena</td>\n    </tr>\n  </tbody>\n</table>\n</div>"
     },
     "metadata": {},
     "execution_count": 14
    }
   ],
   "source": [
    "df_PM2524h['Clase'] = df_PM2524h.apply(AQI_categoria, axis=1)\n",
    "df_PM2524h.head()"
   ]
  },
  {
   "source": [
    "Se guardan los resultados en un csv"
   ],
   "cell_type": "markdown",
   "metadata": {}
  },
  {
   "cell_type": "code",
   "execution_count": 15,
   "metadata": {},
   "outputs": [],
   "source": [
    "df_PM2524h.to_csv('../Datasets/PM2.5/PDZona_PM25.csv', index=False)"
   ]
  }
 ]
}