{
 "metadata": {
  "language_info": {
   "codemirror_mode": {
    "name": "ipython",
    "version": 3
   },
   "file_extension": ".py",
   "mimetype": "text/x-python",
   "name": "python",
   "nbconvert_exporter": "python",
   "pygments_lexer": "ipython3",
   "version": "3.9.4"
  },
  "orig_nbformat": 2,
  "kernelspec": {
   "name": "python394jvsc74a57bd01fd0afac2d97bdb77e434e9960f49dec972ccff2716c35b4713b998ad53724a2",
   "display_name": "Python 3.9.4 64-bit (windows store)"
  },
  "metadata": {
   "interpreter": {
    "hash": "1fd0afac2d97bdb77e434e9960f49dec972ccff2716c35b4713b998ad53724a2"
   }
  }
 },
 "nbformat": 4,
 "nbformat_minor": 2,
 "cells": [
  {
   "source": [
    "# Pasos previos\n",
    "\n",
    "En el módulo anterior, habíamos aplicado nuestra [transformación de datos](https://github.com/IrvingC48/BeduFase2-Proyecto_python/blob/main/Procesos/6_Transformacion_de_datos.md) sin eliminar los datos atípicos.  \n",
    "Por lo que antes de antes de verificar los estimados de locación y variabilidad, debemos ajustar nuestro dataset previo al cálculo del promedio diario y el índice de calidad del aire."
   ],
   "cell_type": "markdown",
   "metadata": {}
  },
  {
   "source": [
    "Para nuestra transformación de datos, utilizaremos las siguientes librerias:"
   ],
   "cell_type": "markdown",
   "metadata": {}
  },
  {
   "cell_type": "code",
   "execution_count": 1,
   "metadata": {},
   "outputs": [],
   "source": [
    "import pandas as pd\n",
    "import numpy as np"
   ]
  },
  {
   "source": [
    "## Transformación de $PM_{10}$\n",
    "\n",
    "- Cargando dataset a un DataFrame de pandas\n",
    "- Posteriormente normalizando la columna `Fecha` a tipo `datetime`"
   ],
   "cell_type": "markdown",
   "metadata": {}
  },
  {
   "cell_type": "code",
   "execution_count": 2,
   "metadata": {},
   "outputs": [
    {
     "output_type": "execute_result",
     "data": {
      "text/plain": [
       "   Unnamed: 0      FECHA  HORA    ACO   AJM    ATI    BJU    CAM    CUA  \\\n",
       "0           0 2019-01-01     1  201.0  39.0  105.0   84.0  120.0  113.0   \n",
       "1           1 2019-01-01     2  218.0  27.0  128.0  115.0  135.0  158.0   \n",
       "2           2 2019-01-01     3  240.0  20.0   93.0  134.0  177.0  192.0   \n",
       "3           3 2019-01-01     4  231.0  10.0   86.0  124.0  204.0  143.0   \n",
       "4           4 2019-01-01     5  216.0   7.0   68.0  143.0  162.0  123.0   \n",
       "\n",
       "     CUT  ...    IZT    MER  PED    SAG   SFE    TAH   TLA    UIZ    VIF  \\\n",
       "0  149.0  ...  132.0  113.0  NaN  149.0  50.0  191.0  78.0  129.0  280.0   \n",
       "1  211.0  ...  202.0  141.0  NaN  149.0  54.0  225.0  73.0  125.0  257.0   \n",
       "2  214.0  ...  198.0  118.0  NaN  152.0  65.0  185.0  80.0  132.0  509.0   \n",
       "3  178.0  ...  192.0  154.0  NaN  217.0  33.0  172.0  84.0  136.0  611.0   \n",
       "4  234.0  ...  178.0  227.0  NaN  242.0  29.0   83.0  63.0  191.0  653.0   \n",
       "\n",
       "     XAL  \n",
       "0  155.0  \n",
       "1  236.0  \n",
       "2  337.0  \n",
       "3  271.0  \n",
       "4  226.0  \n",
       "\n",
       "[5 rows x 24 columns]"
      ],
      "text/html": "<div>\n<style scoped>\n    .dataframe tbody tr th:only-of-type {\n        vertical-align: middle;\n    }\n\n    .dataframe tbody tr th {\n        vertical-align: top;\n    }\n\n    .dataframe thead th {\n        text-align: right;\n    }\n</style>\n<table border=\"1\" class=\"dataframe\">\n  <thead>\n    <tr style=\"text-align: right;\">\n      <th></th>\n      <th>Unnamed: 0</th>\n      <th>FECHA</th>\n      <th>HORA</th>\n      <th>ACO</th>\n      <th>AJM</th>\n      <th>ATI</th>\n      <th>BJU</th>\n      <th>CAM</th>\n      <th>CUA</th>\n      <th>CUT</th>\n      <th>...</th>\n      <th>IZT</th>\n      <th>MER</th>\n      <th>PED</th>\n      <th>SAG</th>\n      <th>SFE</th>\n      <th>TAH</th>\n      <th>TLA</th>\n      <th>UIZ</th>\n      <th>VIF</th>\n      <th>XAL</th>\n    </tr>\n  </thead>\n  <tbody>\n    <tr>\n      <th>0</th>\n      <td>0</td>\n      <td>2019-01-01</td>\n      <td>1</td>\n      <td>201.0</td>\n      <td>39.0</td>\n      <td>105.0</td>\n      <td>84.0</td>\n      <td>120.0</td>\n      <td>113.0</td>\n      <td>149.0</td>\n      <td>...</td>\n      <td>132.0</td>\n      <td>113.0</td>\n      <td>NaN</td>\n      <td>149.0</td>\n      <td>50.0</td>\n      <td>191.0</td>\n      <td>78.0</td>\n      <td>129.0</td>\n      <td>280.0</td>\n      <td>155.0</td>\n    </tr>\n    <tr>\n      <th>1</th>\n      <td>1</td>\n      <td>2019-01-01</td>\n      <td>2</td>\n      <td>218.0</td>\n      <td>27.0</td>\n      <td>128.0</td>\n      <td>115.0</td>\n      <td>135.0</td>\n      <td>158.0</td>\n      <td>211.0</td>\n      <td>...</td>\n      <td>202.0</td>\n      <td>141.0</td>\n      <td>NaN</td>\n      <td>149.0</td>\n      <td>54.0</td>\n      <td>225.0</td>\n      <td>73.0</td>\n      <td>125.0</td>\n      <td>257.0</td>\n      <td>236.0</td>\n    </tr>\n    <tr>\n      <th>2</th>\n      <td>2</td>\n      <td>2019-01-01</td>\n      <td>3</td>\n      <td>240.0</td>\n      <td>20.0</td>\n      <td>93.0</td>\n      <td>134.0</td>\n      <td>177.0</td>\n      <td>192.0</td>\n      <td>214.0</td>\n      <td>...</td>\n      <td>198.0</td>\n      <td>118.0</td>\n      <td>NaN</td>\n      <td>152.0</td>\n      <td>65.0</td>\n      <td>185.0</td>\n      <td>80.0</td>\n      <td>132.0</td>\n      <td>509.0</td>\n      <td>337.0</td>\n    </tr>\n    <tr>\n      <th>3</th>\n      <td>3</td>\n      <td>2019-01-01</td>\n      <td>4</td>\n      <td>231.0</td>\n      <td>10.0</td>\n      <td>86.0</td>\n      <td>124.0</td>\n      <td>204.0</td>\n      <td>143.0</td>\n      <td>178.0</td>\n      <td>...</td>\n      <td>192.0</td>\n      <td>154.0</td>\n      <td>NaN</td>\n      <td>217.0</td>\n      <td>33.0</td>\n      <td>172.0</td>\n      <td>84.0</td>\n      <td>136.0</td>\n      <td>611.0</td>\n      <td>271.0</td>\n    </tr>\n    <tr>\n      <th>4</th>\n      <td>4</td>\n      <td>2019-01-01</td>\n      <td>5</td>\n      <td>216.0</td>\n      <td>7.0</td>\n      <td>68.0</td>\n      <td>143.0</td>\n      <td>162.0</td>\n      <td>123.0</td>\n      <td>234.0</td>\n      <td>...</td>\n      <td>178.0</td>\n      <td>227.0</td>\n      <td>NaN</td>\n      <td>242.0</td>\n      <td>29.0</td>\n      <td>83.0</td>\n      <td>63.0</td>\n      <td>191.0</td>\n      <td>653.0</td>\n      <td>226.0</td>\n    </tr>\n  </tbody>\n</table>\n<p>5 rows × 24 columns</p>\n</div>"
     },
     "metadata": {},
     "execution_count": 2
    }
   ],
   "source": [
    "#Cargando archivos\n",
    "df_PM10 = pd.read_csv('../Datasets/PM10/PM10_depurado.csv')\n",
    "\n",
    "# Normalizando fechas\n",
    "df_PM10['FECHA'] = pd.to_datetime(df_PM10['FECHA'], unit='ns')\n",
    "df_PM10.head()"
   ]
  },
  {
   "source": [
    "Posteriormente, se `filtran` los datos por los meses de interés, que son `marzo`, `abril` y `mayo`. Primeramente se crea el rango de fechas de interés y luego éste se utiliza para filtrar el dataset"
   ],
   "cell_type": "markdown",
   "metadata": {}
  },
  {
   "cell_type": "code",
   "execution_count": 3,
   "metadata": {},
   "outputs": [],
   "source": [
    "date_rng = pd.date_range(start='2019/03/01', end='2019/05/31', freq='d')#Rango en 2019\n",
    "date_rng2= pd.date_range(start='2020/03/01', end='2020/05/31', freq='d') #Rango en 2020\n",
    "date_rng= date_rng.append(date_rng2) #unión de rangos"
   ]
  },
  {
   "cell_type": "code",
   "execution_count": 4,
   "metadata": {},
   "outputs": [
    {
     "output_type": "execute_result",
     "data": {
      "text/plain": [
       "    Unnamed: 0      FECHA  HORA    ACO   AJM   ATI   BJU   CAM   CUA   CUT  \\\n",
       "48          48 2019-03-01     1  119.0  20.0  62.0  27.0  35.0  23.0  71.0   \n",
       "49          49 2019-03-01     2   90.0  34.0  48.0  29.0  27.0  20.0  53.0   \n",
       "50          50 2019-03-01     3   81.0  47.0  37.0  26.0  21.0  28.0  41.0   \n",
       "51          51 2019-03-01     4   65.0  44.0  39.0  39.0  58.0  38.0  39.0   \n",
       "52          52 2019-03-01     5   53.0  40.0  48.0  32.0  63.0  12.0  35.0   \n",
       "\n",
       "    ...   IZT   MER  PED    SAG   SFE   TAH   TLA   UIZ    VIF    XAL  \n",
       "48  ...  64.0  72.0  NaN  110.0  13.0  23.0  40.0  37.0  130.0   96.0  \n",
       "49  ...  46.0  80.0  NaN  133.0  22.0  25.0  51.0  47.0   87.0  114.0  \n",
       "50  ...  44.0  49.0  NaN  124.0  27.0  36.0  55.0  47.0   66.0  128.0  \n",
       "51  ...  51.0  38.0  NaN   70.0  38.0  17.0  25.0  47.0   56.0  118.0  \n",
       "52  ...  56.0  55.0  NaN   90.0  26.0  23.0  27.0  42.0  156.0  130.0  \n",
       "\n",
       "[5 rows x 24 columns]"
      ],
      "text/html": "<div>\n<style scoped>\n    .dataframe tbody tr th:only-of-type {\n        vertical-align: middle;\n    }\n\n    .dataframe tbody tr th {\n        vertical-align: top;\n    }\n\n    .dataframe thead th {\n        text-align: right;\n    }\n</style>\n<table border=\"1\" class=\"dataframe\">\n  <thead>\n    <tr style=\"text-align: right;\">\n      <th></th>\n      <th>Unnamed: 0</th>\n      <th>FECHA</th>\n      <th>HORA</th>\n      <th>ACO</th>\n      <th>AJM</th>\n      <th>ATI</th>\n      <th>BJU</th>\n      <th>CAM</th>\n      <th>CUA</th>\n      <th>CUT</th>\n      <th>...</th>\n      <th>IZT</th>\n      <th>MER</th>\n      <th>PED</th>\n      <th>SAG</th>\n      <th>SFE</th>\n      <th>TAH</th>\n      <th>TLA</th>\n      <th>UIZ</th>\n      <th>VIF</th>\n      <th>XAL</th>\n    </tr>\n  </thead>\n  <tbody>\n    <tr>\n      <th>48</th>\n      <td>48</td>\n      <td>2019-03-01</td>\n      <td>1</td>\n      <td>119.0</td>\n      <td>20.0</td>\n      <td>62.0</td>\n      <td>27.0</td>\n      <td>35.0</td>\n      <td>23.0</td>\n      <td>71.0</td>\n      <td>...</td>\n      <td>64.0</td>\n      <td>72.0</td>\n      <td>NaN</td>\n      <td>110.0</td>\n      <td>13.0</td>\n      <td>23.0</td>\n      <td>40.0</td>\n      <td>37.0</td>\n      <td>130.0</td>\n      <td>96.0</td>\n    </tr>\n    <tr>\n      <th>49</th>\n      <td>49</td>\n      <td>2019-03-01</td>\n      <td>2</td>\n      <td>90.0</td>\n      <td>34.0</td>\n      <td>48.0</td>\n      <td>29.0</td>\n      <td>27.0</td>\n      <td>20.0</td>\n      <td>53.0</td>\n      <td>...</td>\n      <td>46.0</td>\n      <td>80.0</td>\n      <td>NaN</td>\n      <td>133.0</td>\n      <td>22.0</td>\n      <td>25.0</td>\n      <td>51.0</td>\n      <td>47.0</td>\n      <td>87.0</td>\n      <td>114.0</td>\n    </tr>\n    <tr>\n      <th>50</th>\n      <td>50</td>\n      <td>2019-03-01</td>\n      <td>3</td>\n      <td>81.0</td>\n      <td>47.0</td>\n      <td>37.0</td>\n      <td>26.0</td>\n      <td>21.0</td>\n      <td>28.0</td>\n      <td>41.0</td>\n      <td>...</td>\n      <td>44.0</td>\n      <td>49.0</td>\n      <td>NaN</td>\n      <td>124.0</td>\n      <td>27.0</td>\n      <td>36.0</td>\n      <td>55.0</td>\n      <td>47.0</td>\n      <td>66.0</td>\n      <td>128.0</td>\n    </tr>\n    <tr>\n      <th>51</th>\n      <td>51</td>\n      <td>2019-03-01</td>\n      <td>4</td>\n      <td>65.0</td>\n      <td>44.0</td>\n      <td>39.0</td>\n      <td>39.0</td>\n      <td>58.0</td>\n      <td>38.0</td>\n      <td>39.0</td>\n      <td>...</td>\n      <td>51.0</td>\n      <td>38.0</td>\n      <td>NaN</td>\n      <td>70.0</td>\n      <td>38.0</td>\n      <td>17.0</td>\n      <td>25.0</td>\n      <td>47.0</td>\n      <td>56.0</td>\n      <td>118.0</td>\n    </tr>\n    <tr>\n      <th>52</th>\n      <td>52</td>\n      <td>2019-03-01</td>\n      <td>5</td>\n      <td>53.0</td>\n      <td>40.0</td>\n      <td>48.0</td>\n      <td>32.0</td>\n      <td>63.0</td>\n      <td>12.0</td>\n      <td>35.0</td>\n      <td>...</td>\n      <td>56.0</td>\n      <td>55.0</td>\n      <td>NaN</td>\n      <td>90.0</td>\n      <td>26.0</td>\n      <td>23.0</td>\n      <td>27.0</td>\n      <td>42.0</td>\n      <td>156.0</td>\n      <td>130.0</td>\n    </tr>\n  </tbody>\n</table>\n<p>5 rows × 24 columns</p>\n</div>"
     },
     "metadata": {},
     "execution_count": 4
    }
   ],
   "source": [
    "df_PM10=df_PM10[df_PM10[\"FECHA\"].isin(date_rng)]\n",
    "df_PM10.head()"
   ]
  },
  {
   "source": [
    "- Reacomodo del DataFrame, donde ahora tendremos una columna para las `estaciones` y sus correspondientes `datos de medición`\n",
    "- Eliminando los datos `NaN`\n",
    "- Comprobando que no queden datos `NaN` en el DataFrame"
   ],
   "cell_type": "markdown",
   "metadata": {}
  },
  {
   "cell_type": "code",
   "execution_count": 5,
   "metadata": {},
   "outputs": [
    {
     "output_type": "stream",
     "name": "stdout",
     "text": [
      "No. de columnas que contienen valores nulos \n0\nNo. de columnas que no contienen valores nulos\n4\nNo total de columnas en el dataframe\n4\n"
     ]
    },
    {
     "output_type": "execute_result",
     "data": {
      "text/plain": [
       "       FECHA  HORA station  measurement\n",
       "0 2019-03-01     1     ACO        119.0\n",
       "1 2019-03-01     2     ACO         90.0\n",
       "2 2019-03-01     3     ACO         81.0\n",
       "3 2019-03-01     4     ACO         65.0\n",
       "4 2019-03-01     5     ACO         53.0"
      ],
      "text/html": "<div>\n<style scoped>\n    .dataframe tbody tr th:only-of-type {\n        vertical-align: middle;\n    }\n\n    .dataframe tbody tr th {\n        vertical-align: top;\n    }\n\n    .dataframe thead th {\n        text-align: right;\n    }\n</style>\n<table border=\"1\" class=\"dataframe\">\n  <thead>\n    <tr style=\"text-align: right;\">\n      <th></th>\n      <th>FECHA</th>\n      <th>HORA</th>\n      <th>station</th>\n      <th>measurement</th>\n    </tr>\n  </thead>\n  <tbody>\n    <tr>\n      <th>0</th>\n      <td>2019-03-01</td>\n      <td>1</td>\n      <td>ACO</td>\n      <td>119.0</td>\n    </tr>\n    <tr>\n      <th>1</th>\n      <td>2019-03-01</td>\n      <td>2</td>\n      <td>ACO</td>\n      <td>90.0</td>\n    </tr>\n    <tr>\n      <th>2</th>\n      <td>2019-03-01</td>\n      <td>3</td>\n      <td>ACO</td>\n      <td>81.0</td>\n    </tr>\n    <tr>\n      <th>3</th>\n      <td>2019-03-01</td>\n      <td>4</td>\n      <td>ACO</td>\n      <td>65.0</td>\n    </tr>\n    <tr>\n      <th>4</th>\n      <td>2019-03-01</td>\n      <td>5</td>\n      <td>ACO</td>\n      <td>53.0</td>\n    </tr>\n  </tbody>\n</table>\n</div>"
     },
     "metadata": {},
     "execution_count": 5
    }
   ],
   "source": [
    "# Extraer nombre de columnas\n",
    "cols = df_PM10.columns.tolist()\n",
    "\n",
    "# Reacomodando dataframe\n",
    "df_PM10 = pd.melt(df_PM10, id_vars=['FECHA', 'HORA'], value_vars=cols[3:], var_name='station', value_name='measurement')\n",
    "\n",
    "# df = df[~df['measurement'].isna()] otra forma de eliminar nan's\n",
    "df_PM10 = df_PM10.dropna(axis=0, how='any').reset_index(drop=True)\n",
    "\n",
    "print(\"No. de columnas que contienen valores nulos \")\n",
    "print(len(df_PM10.columns[df_PM10.isna().any()]))\n",
    "\n",
    "print(\"No. de columnas que no contienen valores nulos\")\n",
    "print(len(df_PM10.columns[df_PM10.notna().all()]))\n",
    "\n",
    "print(\"No total de columnas en el dataframe\")\n",
    "print(len(df_PM10.columns))\n",
    "df_PM10.head()"
   ]
  },
  {
   "source": [
    "Ordenando el dataframe segun la fecha y la estación"
   ],
   "cell_type": "markdown",
   "metadata": {}
  },
  {
   "cell_type": "code",
   "execution_count": 6,
   "metadata": {},
   "outputs": [
    {
     "output_type": "execute_result",
     "data": {
      "text/plain": [
       "           FECHA  HORA station  measurement\n",
       "0     2019-03-01     1     ACO        119.0\n",
       "1     2019-03-01     2     ACO         90.0\n",
       "2     2019-03-01     3     ACO         81.0\n",
       "3     2019-03-01     4     ACO         65.0\n",
       "4     2019-03-01     5     ACO         53.0\n",
       "...          ...   ...     ...          ...\n",
       "67375 2020-05-31    20     VIF         12.0\n",
       "67376 2020-05-31    21     VIF          5.0\n",
       "67377 2020-05-31    22     VIF         13.0\n",
       "67378 2020-05-31    23     VIF         21.0\n",
       "67379 2020-05-31    24     VIF          9.0\n",
       "\n",
       "[67380 rows x 4 columns]"
      ],
      "text/html": "<div>\n<style scoped>\n    .dataframe tbody tr th:only-of-type {\n        vertical-align: middle;\n    }\n\n    .dataframe tbody tr th {\n        vertical-align: top;\n    }\n\n    .dataframe thead th {\n        text-align: right;\n    }\n</style>\n<table border=\"1\" class=\"dataframe\">\n  <thead>\n    <tr style=\"text-align: right;\">\n      <th></th>\n      <th>FECHA</th>\n      <th>HORA</th>\n      <th>station</th>\n      <th>measurement</th>\n    </tr>\n  </thead>\n  <tbody>\n    <tr>\n      <th>0</th>\n      <td>2019-03-01</td>\n      <td>1</td>\n      <td>ACO</td>\n      <td>119.0</td>\n    </tr>\n    <tr>\n      <th>1</th>\n      <td>2019-03-01</td>\n      <td>2</td>\n      <td>ACO</td>\n      <td>90.0</td>\n    </tr>\n    <tr>\n      <th>2</th>\n      <td>2019-03-01</td>\n      <td>3</td>\n      <td>ACO</td>\n      <td>81.0</td>\n    </tr>\n    <tr>\n      <th>3</th>\n      <td>2019-03-01</td>\n      <td>4</td>\n      <td>ACO</td>\n      <td>65.0</td>\n    </tr>\n    <tr>\n      <th>4</th>\n      <td>2019-03-01</td>\n      <td>5</td>\n      <td>ACO</td>\n      <td>53.0</td>\n    </tr>\n    <tr>\n      <th>...</th>\n      <td>...</td>\n      <td>...</td>\n      <td>...</td>\n      <td>...</td>\n    </tr>\n    <tr>\n      <th>67375</th>\n      <td>2020-05-31</td>\n      <td>20</td>\n      <td>VIF</td>\n      <td>12.0</td>\n    </tr>\n    <tr>\n      <th>67376</th>\n      <td>2020-05-31</td>\n      <td>21</td>\n      <td>VIF</td>\n      <td>5.0</td>\n    </tr>\n    <tr>\n      <th>67377</th>\n      <td>2020-05-31</td>\n      <td>22</td>\n      <td>VIF</td>\n      <td>13.0</td>\n    </tr>\n    <tr>\n      <th>67378</th>\n      <td>2020-05-31</td>\n      <td>23</td>\n      <td>VIF</td>\n      <td>21.0</td>\n    </tr>\n    <tr>\n      <th>67379</th>\n      <td>2020-05-31</td>\n      <td>24</td>\n      <td>VIF</td>\n      <td>9.0</td>\n    </tr>\n  </tbody>\n</table>\n<p>67380 rows × 4 columns</p>\n</div>"
     },
     "metadata": {},
     "execution_count": 6
    }
   ],
   "source": [
    "df_PM10 = df_PM10.sort_values(['FECHA', 'station']).reset_index(drop=True)\n",
    "df_PM10"
   ]
  },
  {
   "source": [
    "`Agregamos` una columna para el `año` con el nombre `Year`, y otro para el `mes` con el nombre `Month`"
   ],
   "cell_type": "markdown",
   "metadata": {}
  },
  {
   "cell_type": "code",
   "execution_count": 7,
   "metadata": {},
   "outputs": [
    {
     "output_type": "execute_result",
     "data": {
      "text/plain": [
       "       FECHA  Year  Month  HORA station  measurement\n",
       "0 2019-03-01  2019      3     1     ACO        119.0\n",
       "1 2019-03-01  2019      3     2     ACO         90.0\n",
       "2 2019-03-01  2019      3     3     ACO         81.0\n",
       "3 2019-03-01  2019      3     4     ACO         65.0\n",
       "4 2019-03-01  2019      3     5     ACO         53.0"
      ],
      "text/html": "<div>\n<style scoped>\n    .dataframe tbody tr th:only-of-type {\n        vertical-align: middle;\n    }\n\n    .dataframe tbody tr th {\n        vertical-align: top;\n    }\n\n    .dataframe thead th {\n        text-align: right;\n    }\n</style>\n<table border=\"1\" class=\"dataframe\">\n  <thead>\n    <tr style=\"text-align: right;\">\n      <th></th>\n      <th>FECHA</th>\n      <th>Year</th>\n      <th>Month</th>\n      <th>HORA</th>\n      <th>station</th>\n      <th>measurement</th>\n    </tr>\n  </thead>\n  <tbody>\n    <tr>\n      <th>0</th>\n      <td>2019-03-01</td>\n      <td>2019</td>\n      <td>3</td>\n      <td>1</td>\n      <td>ACO</td>\n      <td>119.0</td>\n    </tr>\n    <tr>\n      <th>1</th>\n      <td>2019-03-01</td>\n      <td>2019</td>\n      <td>3</td>\n      <td>2</td>\n      <td>ACO</td>\n      <td>90.0</td>\n    </tr>\n    <tr>\n      <th>2</th>\n      <td>2019-03-01</td>\n      <td>2019</td>\n      <td>3</td>\n      <td>3</td>\n      <td>ACO</td>\n      <td>81.0</td>\n    </tr>\n    <tr>\n      <th>3</th>\n      <td>2019-03-01</td>\n      <td>2019</td>\n      <td>3</td>\n      <td>4</td>\n      <td>ACO</td>\n      <td>65.0</td>\n    </tr>\n    <tr>\n      <th>4</th>\n      <td>2019-03-01</td>\n      <td>2019</td>\n      <td>3</td>\n      <td>5</td>\n      <td>ACO</td>\n      <td>53.0</td>\n    </tr>\n  </tbody>\n</table>\n</div>"
     },
     "metadata": {},
     "execution_count": 7
    }
   ],
   "source": [
    "df_PM10.insert(loc=1,column='Year',value=df_PM10['FECHA'].dt.year)\n",
    "df_PM10.insert(loc=2,column='Month',value=df_PM10['FECHA'].dt.month)\n",
    "df_PM10.head()"
   ]
  },
  {
   "source": [
    "Se procede a relacionar cada estación con su respectiva zona de activación. Primeramente se leen los datos"
   ],
   "cell_type": "markdown",
   "metadata": {}
  },
  {
   "cell_type": "code",
   "execution_count": 8,
   "metadata": {},
   "outputs": [
    {
     "output_type": "execute_result",
     "data": {
      "text/plain": [
       "  station      nom_estac Zona\n",
       "0     ACO        Acolman   NE\n",
       "1     AJU         Ajusco   SO\n",
       "2     AJM   Ajusco Medio   SO\n",
       "3     ATI       Atizapan   NO\n",
       "4     BJU  Benito Ju�rez   CE"
      ],
      "text/html": "<div>\n<style scoped>\n    .dataframe tbody tr th:only-of-type {\n        vertical-align: middle;\n    }\n\n    .dataframe tbody tr th {\n        vertical-align: top;\n    }\n\n    .dataframe thead th {\n        text-align: right;\n    }\n</style>\n<table border=\"1\" class=\"dataframe\">\n  <thead>\n    <tr style=\"text-align: right;\">\n      <th></th>\n      <th>station</th>\n      <th>nom_estac</th>\n      <th>Zona</th>\n    </tr>\n  </thead>\n  <tbody>\n    <tr>\n      <th>0</th>\n      <td>ACO</td>\n      <td>Acolman</td>\n      <td>NE</td>\n    </tr>\n    <tr>\n      <th>1</th>\n      <td>AJU</td>\n      <td>Ajusco</td>\n      <td>SO</td>\n    </tr>\n    <tr>\n      <th>2</th>\n      <td>AJM</td>\n      <td>Ajusco Medio</td>\n      <td>SO</td>\n    </tr>\n    <tr>\n      <th>3</th>\n      <td>ATI</td>\n      <td>Atizapan</td>\n      <td>NO</td>\n    </tr>\n    <tr>\n      <th>4</th>\n      <td>BJU</td>\n      <td>Benito Ju�rez</td>\n      <td>CE</td>\n    </tr>\n  </tbody>\n</table>\n</div>"
     },
     "metadata": {},
     "execution_count": 8
    }
   ],
   "source": [
    "# Cargando dataset de zonas\n",
    "df_zonas = pd.read_csv('../Datasets/cat_estacion_depurado.csv')\n",
    "\n",
    "# Eliminando columna 'Unnamed: 0'\n",
    "df_zonas = df_zonas.drop(columns=['Unnamed: 0'])\n",
    "# Remplazando los - por NaN\n",
    "df_zonas = df_zonas.replace('-', np.nan)\n",
    "# Eliminando lo NaN's\n",
    "df_zonas = df_zonas.dropna(axis=0, how='any').reset_index(drop=True)\n",
    "# Renombrando la columna\n",
    "df_zonas = df_zonas.rename(columns={'cve_estac': 'station'})\n",
    "df_zonas.head()"
   ]
  },
  {
   "source": [
    "Uniendo los datos con las zonas correspondientes"
   ],
   "cell_type": "markdown",
   "metadata": {}
  },
  {
   "cell_type": "code",
   "execution_count": 9,
   "metadata": {},
   "outputs": [
    {
     "output_type": "execute_result",
     "data": {
      "text/plain": [
       "       FECHA  Year  Month  HORA station  measurement Zona\n",
       "0 2019-03-01  2019      3     1     ACO        119.0   NE\n",
       "1 2019-03-01  2019      3     2     ACO         90.0   NE\n",
       "2 2019-03-01  2019      3     3     ACO         81.0   NE\n",
       "3 2019-03-01  2019      3     4     ACO         65.0   NE\n",
       "4 2019-03-01  2019      3     5     ACO         53.0   NE"
      ],
      "text/html": "<div>\n<style scoped>\n    .dataframe tbody tr th:only-of-type {\n        vertical-align: middle;\n    }\n\n    .dataframe tbody tr th {\n        vertical-align: top;\n    }\n\n    .dataframe thead th {\n        text-align: right;\n    }\n</style>\n<table border=\"1\" class=\"dataframe\">\n  <thead>\n    <tr style=\"text-align: right;\">\n      <th></th>\n      <th>FECHA</th>\n      <th>Year</th>\n      <th>Month</th>\n      <th>HORA</th>\n      <th>station</th>\n      <th>measurement</th>\n      <th>Zona</th>\n    </tr>\n  </thead>\n  <tbody>\n    <tr>\n      <th>0</th>\n      <td>2019-03-01</td>\n      <td>2019</td>\n      <td>3</td>\n      <td>1</td>\n      <td>ACO</td>\n      <td>119.0</td>\n      <td>NE</td>\n    </tr>\n    <tr>\n      <th>1</th>\n      <td>2019-03-01</td>\n      <td>2019</td>\n      <td>3</td>\n      <td>2</td>\n      <td>ACO</td>\n      <td>90.0</td>\n      <td>NE</td>\n    </tr>\n    <tr>\n      <th>2</th>\n      <td>2019-03-01</td>\n      <td>2019</td>\n      <td>3</td>\n      <td>3</td>\n      <td>ACO</td>\n      <td>81.0</td>\n      <td>NE</td>\n    </tr>\n    <tr>\n      <th>3</th>\n      <td>2019-03-01</td>\n      <td>2019</td>\n      <td>3</td>\n      <td>4</td>\n      <td>ACO</td>\n      <td>65.0</td>\n      <td>NE</td>\n    </tr>\n    <tr>\n      <th>4</th>\n      <td>2019-03-01</td>\n      <td>2019</td>\n      <td>3</td>\n      <td>5</td>\n      <td>ACO</td>\n      <td>53.0</td>\n      <td>NE</td>\n    </tr>\n  </tbody>\n</table>\n</div>"
     },
     "metadata": {},
     "execution_count": 9
    }
   ],
   "source": [
    "df_PM10 = df_PM10.merge(df_zonas[['station', 'Zona']], on='station')\n",
    "df_PM10.head()"
   ]
  },
  {
   "source": [
    "Guardamos nuestro dataset de está partícula para el analisis de este modulo"
   ],
   "cell_type": "markdown",
   "metadata": {}
  },
  {
   "cell_type": "code",
   "execution_count": 10,
   "metadata": {},
   "outputs": [],
   "source": [
    "df_PM10.to_csv('../Datasets/PM10/PM10_depurado_melt.csv')"
   ]
  },
  {
   "source": [
    "## Transformación de $PM_{2.5}$\n",
    "\n",
    "- Cargando dataset a un DataFrame de pandas\n",
    "- Posteriormente normalizando la columna `Fecha` a tipo `datetime`"
   ],
   "cell_type": "markdown",
   "metadata": {}
  },
  {
   "cell_type": "code",
   "execution_count": 11,
   "metadata": {},
   "outputs": [
    {
     "output_type": "execute_result",
     "data": {
      "text/plain": [
       "   Unnamed: 0      FECHA  HORA   AJM   AJU    BJU    CAM   CCA  FAR  GAM  ...  \\\n",
       "0           0 2019-01-01     1  19.0  35.0   62.0   90.0  66.0  NaN  NaN  ...   \n",
       "1           1 2019-01-01     2  17.0  24.0   88.0  104.0  84.0  NaN  NaN  ...   \n",
       "2           2 2019-01-01     3  14.0  20.0  107.0  140.0  95.0  NaN  NaN  ...   \n",
       "3           3 2019-01-01     4   6.0  15.0  101.0  162.0  97.0  NaN  NaN  ...   \n",
       "4           4 2019-01-01     5   4.0   8.0  121.0  133.0  88.0  NaN  NaN  ...   \n",
       "\n",
       "     MON    NEZ  PED  SAC    SAG   SFE   TLA    UAX    UIZ    XAL  \n",
       "0  102.0  133.0  NaN  NaN   92.0  33.0  55.0   74.0   99.0   96.0  \n",
       "1  108.0  164.0  NaN  NaN  100.0  40.0  52.0  115.0   99.0  164.0  \n",
       "2  125.0  206.0  NaN  NaN  104.0  52.0  59.0  150.0  109.0  249.0  \n",
       "3   92.0  273.0  NaN  NaN  144.0  25.0  58.0  180.0  112.0  200.0  \n",
       "4   84.0  291.0  NaN  NaN  171.0  21.0  46.0  167.0  164.0  161.0  \n",
       "\n",
       "[5 rows x 23 columns]"
      ],
      "text/html": "<div>\n<style scoped>\n    .dataframe tbody tr th:only-of-type {\n        vertical-align: middle;\n    }\n\n    .dataframe tbody tr th {\n        vertical-align: top;\n    }\n\n    .dataframe thead th {\n        text-align: right;\n    }\n</style>\n<table border=\"1\" class=\"dataframe\">\n  <thead>\n    <tr style=\"text-align: right;\">\n      <th></th>\n      <th>Unnamed: 0</th>\n      <th>FECHA</th>\n      <th>HORA</th>\n      <th>AJM</th>\n      <th>AJU</th>\n      <th>BJU</th>\n      <th>CAM</th>\n      <th>CCA</th>\n      <th>FAR</th>\n      <th>GAM</th>\n      <th>...</th>\n      <th>MON</th>\n      <th>NEZ</th>\n      <th>PED</th>\n      <th>SAC</th>\n      <th>SAG</th>\n      <th>SFE</th>\n      <th>TLA</th>\n      <th>UAX</th>\n      <th>UIZ</th>\n      <th>XAL</th>\n    </tr>\n  </thead>\n  <tbody>\n    <tr>\n      <th>0</th>\n      <td>0</td>\n      <td>2019-01-01</td>\n      <td>1</td>\n      <td>19.0</td>\n      <td>35.0</td>\n      <td>62.0</td>\n      <td>90.0</td>\n      <td>66.0</td>\n      <td>NaN</td>\n      <td>NaN</td>\n      <td>...</td>\n      <td>102.0</td>\n      <td>133.0</td>\n      <td>NaN</td>\n      <td>NaN</td>\n      <td>92.0</td>\n      <td>33.0</td>\n      <td>55.0</td>\n      <td>74.0</td>\n      <td>99.0</td>\n      <td>96.0</td>\n    </tr>\n    <tr>\n      <th>1</th>\n      <td>1</td>\n      <td>2019-01-01</td>\n      <td>2</td>\n      <td>17.0</td>\n      <td>24.0</td>\n      <td>88.0</td>\n      <td>104.0</td>\n      <td>84.0</td>\n      <td>NaN</td>\n      <td>NaN</td>\n      <td>...</td>\n      <td>108.0</td>\n      <td>164.0</td>\n      <td>NaN</td>\n      <td>NaN</td>\n      <td>100.0</td>\n      <td>40.0</td>\n      <td>52.0</td>\n      <td>115.0</td>\n      <td>99.0</td>\n      <td>164.0</td>\n    </tr>\n    <tr>\n      <th>2</th>\n      <td>2</td>\n      <td>2019-01-01</td>\n      <td>3</td>\n      <td>14.0</td>\n      <td>20.0</td>\n      <td>107.0</td>\n      <td>140.0</td>\n      <td>95.0</td>\n      <td>NaN</td>\n      <td>NaN</td>\n      <td>...</td>\n      <td>125.0</td>\n      <td>206.0</td>\n      <td>NaN</td>\n      <td>NaN</td>\n      <td>104.0</td>\n      <td>52.0</td>\n      <td>59.0</td>\n      <td>150.0</td>\n      <td>109.0</td>\n      <td>249.0</td>\n    </tr>\n    <tr>\n      <th>3</th>\n      <td>3</td>\n      <td>2019-01-01</td>\n      <td>4</td>\n      <td>6.0</td>\n      <td>15.0</td>\n      <td>101.0</td>\n      <td>162.0</td>\n      <td>97.0</td>\n      <td>NaN</td>\n      <td>NaN</td>\n      <td>...</td>\n      <td>92.0</td>\n      <td>273.0</td>\n      <td>NaN</td>\n      <td>NaN</td>\n      <td>144.0</td>\n      <td>25.0</td>\n      <td>58.0</td>\n      <td>180.0</td>\n      <td>112.0</td>\n      <td>200.0</td>\n    </tr>\n    <tr>\n      <th>4</th>\n      <td>4</td>\n      <td>2019-01-01</td>\n      <td>5</td>\n      <td>4.0</td>\n      <td>8.0</td>\n      <td>121.0</td>\n      <td>133.0</td>\n      <td>88.0</td>\n      <td>NaN</td>\n      <td>NaN</td>\n      <td>...</td>\n      <td>84.0</td>\n      <td>291.0</td>\n      <td>NaN</td>\n      <td>NaN</td>\n      <td>171.0</td>\n      <td>21.0</td>\n      <td>46.0</td>\n      <td>167.0</td>\n      <td>164.0</td>\n      <td>161.0</td>\n    </tr>\n  </tbody>\n</table>\n<p>5 rows × 23 columns</p>\n</div>"
     },
     "metadata": {},
     "execution_count": 11
    }
   ],
   "source": [
    "#Cargando archivos\n",
    "df_PM25 = pd.read_csv('../Datasets/PM2.5/PM25_depurado.csv')\n",
    "\n",
    "# Normalizando fechas\n",
    "df_PM25['FECHA'] = pd.to_datetime(df_PM25['FECHA'], unit='ns')\n",
    "df_PM25.head()"
   ]
  },
  {
   "source": [
    "Posteriormente, se `filtran` los datos por los meses de interés, que son `marzo`, `abril` y `mayo`. Primeramente se crea el rango de fechas de interés y luego éste se utiliza para filtrar el dataset"
   ],
   "cell_type": "markdown",
   "metadata": {}
  },
  {
   "cell_type": "code",
   "execution_count": 12,
   "metadata": {},
   "outputs": [],
   "source": [
    "date_rng = pd.date_range(start='2019/03/01', end='2019/05/31', freq='d')#Rango en 2019\n",
    "date_rng2= pd.date_range(start='2020/03/01', end='2020/05/31', freq='d') #Rango en 2020\n",
    "date_rng= date_rng.append(date_rng2) #unión de rangos"
   ]
  },
  {
   "cell_type": "code",
   "execution_count": 13,
   "metadata": {},
   "outputs": [
    {
     "output_type": "execute_result",
     "data": {
      "text/plain": [
       "    Unnamed: 0      FECHA  HORA   AJM  AJU   BJU   CAM   CCA  FAR   GAM  ...  \\\n",
       "48          48 2019-03-01     1   8.0  1.0  12.0  14.0  12.0  NaN  34.0  ...   \n",
       "49          49 2019-03-01     2  19.0  4.0  14.0  13.0  11.0  NaN  31.0  ...   \n",
       "50          50 2019-03-01     3  29.0  3.0  11.0  12.0  15.0  NaN  35.0  ...   \n",
       "51          51 2019-03-01     4  28.0  6.0  22.0  17.0  18.0  NaN  40.0  ...   \n",
       "52          52 2019-03-01     5  26.0  3.0  18.0  24.0  18.0  NaN  41.0  ...   \n",
       "\n",
       "     MON   NEZ  PED  SAC   SAG   SFE   TLA   UAX   UIZ   XAL  \n",
       "48  12.0  31.0  NaN  NaN  40.0   5.0  18.0  27.0  17.0  46.0  \n",
       "49   7.0  35.0  NaN  NaN  44.0  12.0  33.0  27.0  26.0  51.0  \n",
       "50  13.0  30.0  NaN  NaN  44.0  16.0  35.0  37.0  29.0  54.0  \n",
       "51  18.0  32.0  NaN  NaN  30.0  27.0  13.0  29.0  29.0  54.0  \n",
       "52  14.0  34.0  NaN  NaN  33.0  17.0  14.0  17.0  24.0  62.0  \n",
       "\n",
       "[5 rows x 23 columns]"
      ],
      "text/html": "<div>\n<style scoped>\n    .dataframe tbody tr th:only-of-type {\n        vertical-align: middle;\n    }\n\n    .dataframe tbody tr th {\n        vertical-align: top;\n    }\n\n    .dataframe thead th {\n        text-align: right;\n    }\n</style>\n<table border=\"1\" class=\"dataframe\">\n  <thead>\n    <tr style=\"text-align: right;\">\n      <th></th>\n      <th>Unnamed: 0</th>\n      <th>FECHA</th>\n      <th>HORA</th>\n      <th>AJM</th>\n      <th>AJU</th>\n      <th>BJU</th>\n      <th>CAM</th>\n      <th>CCA</th>\n      <th>FAR</th>\n      <th>GAM</th>\n      <th>...</th>\n      <th>MON</th>\n      <th>NEZ</th>\n      <th>PED</th>\n      <th>SAC</th>\n      <th>SAG</th>\n      <th>SFE</th>\n      <th>TLA</th>\n      <th>UAX</th>\n      <th>UIZ</th>\n      <th>XAL</th>\n    </tr>\n  </thead>\n  <tbody>\n    <tr>\n      <th>48</th>\n      <td>48</td>\n      <td>2019-03-01</td>\n      <td>1</td>\n      <td>8.0</td>\n      <td>1.0</td>\n      <td>12.0</td>\n      <td>14.0</td>\n      <td>12.0</td>\n      <td>NaN</td>\n      <td>34.0</td>\n      <td>...</td>\n      <td>12.0</td>\n      <td>31.0</td>\n      <td>NaN</td>\n      <td>NaN</td>\n      <td>40.0</td>\n      <td>5.0</td>\n      <td>18.0</td>\n      <td>27.0</td>\n      <td>17.0</td>\n      <td>46.0</td>\n    </tr>\n    <tr>\n      <th>49</th>\n      <td>49</td>\n      <td>2019-03-01</td>\n      <td>2</td>\n      <td>19.0</td>\n      <td>4.0</td>\n      <td>14.0</td>\n      <td>13.0</td>\n      <td>11.0</td>\n      <td>NaN</td>\n      <td>31.0</td>\n      <td>...</td>\n      <td>7.0</td>\n      <td>35.0</td>\n      <td>NaN</td>\n      <td>NaN</td>\n      <td>44.0</td>\n      <td>12.0</td>\n      <td>33.0</td>\n      <td>27.0</td>\n      <td>26.0</td>\n      <td>51.0</td>\n    </tr>\n    <tr>\n      <th>50</th>\n      <td>50</td>\n      <td>2019-03-01</td>\n      <td>3</td>\n      <td>29.0</td>\n      <td>3.0</td>\n      <td>11.0</td>\n      <td>12.0</td>\n      <td>15.0</td>\n      <td>NaN</td>\n      <td>35.0</td>\n      <td>...</td>\n      <td>13.0</td>\n      <td>30.0</td>\n      <td>NaN</td>\n      <td>NaN</td>\n      <td>44.0</td>\n      <td>16.0</td>\n      <td>35.0</td>\n      <td>37.0</td>\n      <td>29.0</td>\n      <td>54.0</td>\n    </tr>\n    <tr>\n      <th>51</th>\n      <td>51</td>\n      <td>2019-03-01</td>\n      <td>4</td>\n      <td>28.0</td>\n      <td>6.0</td>\n      <td>22.0</td>\n      <td>17.0</td>\n      <td>18.0</td>\n      <td>NaN</td>\n      <td>40.0</td>\n      <td>...</td>\n      <td>18.0</td>\n      <td>32.0</td>\n      <td>NaN</td>\n      <td>NaN</td>\n      <td>30.0</td>\n      <td>27.0</td>\n      <td>13.0</td>\n      <td>29.0</td>\n      <td>29.0</td>\n      <td>54.0</td>\n    </tr>\n    <tr>\n      <th>52</th>\n      <td>52</td>\n      <td>2019-03-01</td>\n      <td>5</td>\n      <td>26.0</td>\n      <td>3.0</td>\n      <td>18.0</td>\n      <td>24.0</td>\n      <td>18.0</td>\n      <td>NaN</td>\n      <td>41.0</td>\n      <td>...</td>\n      <td>14.0</td>\n      <td>34.0</td>\n      <td>NaN</td>\n      <td>NaN</td>\n      <td>33.0</td>\n      <td>17.0</td>\n      <td>14.0</td>\n      <td>17.0</td>\n      <td>24.0</td>\n      <td>62.0</td>\n    </tr>\n  </tbody>\n</table>\n<p>5 rows × 23 columns</p>\n</div>"
     },
     "metadata": {},
     "execution_count": 13
    }
   ],
   "source": [
    "df_PM25=df_PM25[df_PM25[\"FECHA\"].isin(date_rng)]\n",
    "df_PM25.head()"
   ]
  },
  {
   "source": [
    "- Reacomodo del DataFrame, donde ahora tendremos una columna para las `estaciones` y sus correspondientes `datos de medición`\n",
    "- Eliminando los datos `NaN`\n",
    "- Comprobando que no queden datos `NaN` en el DataFrame"
   ],
   "cell_type": "markdown",
   "metadata": {}
  },
  {
   "cell_type": "code",
   "execution_count": 14,
   "metadata": {},
   "outputs": [
    {
     "output_type": "stream",
     "name": "stdout",
     "text": [
      "No. de columnas que contienen valores nulos \n0\nNo. de columnas que no contienen valores nulos\n4\nNo total de columnas en el dataframe\n4\n"
     ]
    },
    {
     "output_type": "execute_result",
     "data": {
      "text/plain": [
       "       FECHA  HORA station  measurement\n",
       "0 2019-03-01     1     AJM          8.0\n",
       "1 2019-03-01     2     AJM         19.0\n",
       "2 2019-03-01     3     AJM         29.0\n",
       "3 2019-03-01     4     AJM         28.0\n",
       "4 2019-03-01     5     AJM         26.0"
      ],
      "text/html": "<div>\n<style scoped>\n    .dataframe tbody tr th:only-of-type {\n        vertical-align: middle;\n    }\n\n    .dataframe tbody tr th {\n        vertical-align: top;\n    }\n\n    .dataframe thead th {\n        text-align: right;\n    }\n</style>\n<table border=\"1\" class=\"dataframe\">\n  <thead>\n    <tr style=\"text-align: right;\">\n      <th></th>\n      <th>FECHA</th>\n      <th>HORA</th>\n      <th>station</th>\n      <th>measurement</th>\n    </tr>\n  </thead>\n  <tbody>\n    <tr>\n      <th>0</th>\n      <td>2019-03-01</td>\n      <td>1</td>\n      <td>AJM</td>\n      <td>8.0</td>\n    </tr>\n    <tr>\n      <th>1</th>\n      <td>2019-03-01</td>\n      <td>2</td>\n      <td>AJM</td>\n      <td>19.0</td>\n    </tr>\n    <tr>\n      <th>2</th>\n      <td>2019-03-01</td>\n      <td>3</td>\n      <td>AJM</td>\n      <td>29.0</td>\n    </tr>\n    <tr>\n      <th>3</th>\n      <td>2019-03-01</td>\n      <td>4</td>\n      <td>AJM</td>\n      <td>28.0</td>\n    </tr>\n    <tr>\n      <th>4</th>\n      <td>2019-03-01</td>\n      <td>5</td>\n      <td>AJM</td>\n      <td>26.0</td>\n    </tr>\n  </tbody>\n</table>\n</div>"
     },
     "metadata": {},
     "execution_count": 14
    }
   ],
   "source": [
    "# Extraer nombre de columnas\n",
    "cols = df_PM25.columns.tolist()\n",
    "\n",
    "# Reacomodando dataframe\n",
    "df_PM25 = pd.melt(df_PM25, id_vars=['FECHA', 'HORA'], value_vars=cols[3:], var_name='station', value_name='measurement')\n",
    "\n",
    "# df = df[~df['measurement'].isna()]\n",
    "df_PM25 = df_PM25.dropna(axis=0, how='any').reset_index(drop=True)\n",
    "\n",
    "print(\"No. de columnas que contienen valores nulos \")\n",
    "print(len(df_PM25.columns[df_PM25.isna().any()]))\n",
    "\n",
    "print(\"No. de columnas que no contienen valores nulos\")\n",
    "print(len(df_PM25.columns[df_PM25.notna().all()]))\n",
    "\n",
    "print(\"No total de columnas en el dataframe\")\n",
    "print(len(df_PM25.columns))\n",
    "df_PM25.head()"
   ]
  },
  {
   "source": [
    "Ordenando el dataframe segun la fecha y la estación"
   ],
   "cell_type": "markdown",
   "metadata": {}
  },
  {
   "cell_type": "code",
   "execution_count": 15,
   "metadata": {},
   "outputs": [
    {
     "output_type": "execute_result",
     "data": {
      "text/plain": [
       "           FECHA  HORA station  measurement\n",
       "0     2019-03-01     1     AJM          8.0\n",
       "1     2019-03-01     2     AJM         19.0\n",
       "2     2019-03-01     3     AJM         29.0\n",
       "3     2019-03-01     4     AJM         28.0\n",
       "4     2019-03-01     5     AJM         26.0\n",
       "...          ...   ...     ...          ...\n",
       "62722 2020-05-31    20     UIZ         11.0\n",
       "62723 2020-05-31    21     UIZ         14.0\n",
       "62724 2020-05-31    22     UIZ          5.0\n",
       "62725 2020-05-31    23     UIZ         10.0\n",
       "62726 2020-05-31    24     UIZ         12.0\n",
       "\n",
       "[62727 rows x 4 columns]"
      ],
      "text/html": "<div>\n<style scoped>\n    .dataframe tbody tr th:only-of-type {\n        vertical-align: middle;\n    }\n\n    .dataframe tbody tr th {\n        vertical-align: top;\n    }\n\n    .dataframe thead th {\n        text-align: right;\n    }\n</style>\n<table border=\"1\" class=\"dataframe\">\n  <thead>\n    <tr style=\"text-align: right;\">\n      <th></th>\n      <th>FECHA</th>\n      <th>HORA</th>\n      <th>station</th>\n      <th>measurement</th>\n    </tr>\n  </thead>\n  <tbody>\n    <tr>\n      <th>0</th>\n      <td>2019-03-01</td>\n      <td>1</td>\n      <td>AJM</td>\n      <td>8.0</td>\n    </tr>\n    <tr>\n      <th>1</th>\n      <td>2019-03-01</td>\n      <td>2</td>\n      <td>AJM</td>\n      <td>19.0</td>\n    </tr>\n    <tr>\n      <th>2</th>\n      <td>2019-03-01</td>\n      <td>3</td>\n      <td>AJM</td>\n      <td>29.0</td>\n    </tr>\n    <tr>\n      <th>3</th>\n      <td>2019-03-01</td>\n      <td>4</td>\n      <td>AJM</td>\n      <td>28.0</td>\n    </tr>\n    <tr>\n      <th>4</th>\n      <td>2019-03-01</td>\n      <td>5</td>\n      <td>AJM</td>\n      <td>26.0</td>\n    </tr>\n    <tr>\n      <th>...</th>\n      <td>...</td>\n      <td>...</td>\n      <td>...</td>\n      <td>...</td>\n    </tr>\n    <tr>\n      <th>62722</th>\n      <td>2020-05-31</td>\n      <td>20</td>\n      <td>UIZ</td>\n      <td>11.0</td>\n    </tr>\n    <tr>\n      <th>62723</th>\n      <td>2020-05-31</td>\n      <td>21</td>\n      <td>UIZ</td>\n      <td>14.0</td>\n    </tr>\n    <tr>\n      <th>62724</th>\n      <td>2020-05-31</td>\n      <td>22</td>\n      <td>UIZ</td>\n      <td>5.0</td>\n    </tr>\n    <tr>\n      <th>62725</th>\n      <td>2020-05-31</td>\n      <td>23</td>\n      <td>UIZ</td>\n      <td>10.0</td>\n    </tr>\n    <tr>\n      <th>62726</th>\n      <td>2020-05-31</td>\n      <td>24</td>\n      <td>UIZ</td>\n      <td>12.0</td>\n    </tr>\n  </tbody>\n</table>\n<p>62727 rows × 4 columns</p>\n</div>"
     },
     "metadata": {},
     "execution_count": 15
    }
   ],
   "source": [
    "df_PM25 = df_PM25.sort_values(['FECHA', 'station']).reset_index(drop=True)\n",
    "df_PM25"
   ]
  },
  {
   "source": [
    "`Agregamos` una columna para el `año` con el nombre `Year`, y otro para el `mes` con el nombre `Month`"
   ],
   "cell_type": "markdown",
   "metadata": {}
  },
  {
   "cell_type": "code",
   "execution_count": 16,
   "metadata": {},
   "outputs": [
    {
     "output_type": "execute_result",
     "data": {
      "text/plain": [
       "       FECHA  Year  Month  HORA station  measurement\n",
       "0 2019-03-01  2019      3     1     AJM          8.0\n",
       "1 2019-03-01  2019      3     2     AJM         19.0\n",
       "2 2019-03-01  2019      3     3     AJM         29.0\n",
       "3 2019-03-01  2019      3     4     AJM         28.0\n",
       "4 2019-03-01  2019      3     5     AJM         26.0"
      ],
      "text/html": "<div>\n<style scoped>\n    .dataframe tbody tr th:only-of-type {\n        vertical-align: middle;\n    }\n\n    .dataframe tbody tr th {\n        vertical-align: top;\n    }\n\n    .dataframe thead th {\n        text-align: right;\n    }\n</style>\n<table border=\"1\" class=\"dataframe\">\n  <thead>\n    <tr style=\"text-align: right;\">\n      <th></th>\n      <th>FECHA</th>\n      <th>Year</th>\n      <th>Month</th>\n      <th>HORA</th>\n      <th>station</th>\n      <th>measurement</th>\n    </tr>\n  </thead>\n  <tbody>\n    <tr>\n      <th>0</th>\n      <td>2019-03-01</td>\n      <td>2019</td>\n      <td>3</td>\n      <td>1</td>\n      <td>AJM</td>\n      <td>8.0</td>\n    </tr>\n    <tr>\n      <th>1</th>\n      <td>2019-03-01</td>\n      <td>2019</td>\n      <td>3</td>\n      <td>2</td>\n      <td>AJM</td>\n      <td>19.0</td>\n    </tr>\n    <tr>\n      <th>2</th>\n      <td>2019-03-01</td>\n      <td>2019</td>\n      <td>3</td>\n      <td>3</td>\n      <td>AJM</td>\n      <td>29.0</td>\n    </tr>\n    <tr>\n      <th>3</th>\n      <td>2019-03-01</td>\n      <td>2019</td>\n      <td>3</td>\n      <td>4</td>\n      <td>AJM</td>\n      <td>28.0</td>\n    </tr>\n    <tr>\n      <th>4</th>\n      <td>2019-03-01</td>\n      <td>2019</td>\n      <td>3</td>\n      <td>5</td>\n      <td>AJM</td>\n      <td>26.0</td>\n    </tr>\n  </tbody>\n</table>\n</div>"
     },
     "metadata": {},
     "execution_count": 16
    }
   ],
   "source": [
    "df_PM25.insert(loc=1,column='Year',value=df_PM25['FECHA'].dt.year)\n",
    "df_PM25.insert(loc=2,column='Month',value=df_PM25['FECHA'].dt.month)\n",
    "df_PM25.head()"
   ]
  },
  {
   "source": [
    "Se procede a relacionar cada estación con su respectiva zona de activación. Primeramente se leen los datos"
   ],
   "cell_type": "markdown",
   "metadata": {}
  },
  {
   "cell_type": "code",
   "execution_count": 17,
   "metadata": {},
   "outputs": [
    {
     "output_type": "execute_result",
     "data": {
      "text/plain": [
       "  station      nom_estac Zona\n",
       "0     ACO        Acolman   NE\n",
       "1     AJU         Ajusco   SO\n",
       "2     AJM   Ajusco Medio   SO\n",
       "3     ATI       Atizapan   NO\n",
       "4     BJU  Benito Ju�rez   CE"
      ],
      "text/html": "<div>\n<style scoped>\n    .dataframe tbody tr th:only-of-type {\n        vertical-align: middle;\n    }\n\n    .dataframe tbody tr th {\n        vertical-align: top;\n    }\n\n    .dataframe thead th {\n        text-align: right;\n    }\n</style>\n<table border=\"1\" class=\"dataframe\">\n  <thead>\n    <tr style=\"text-align: right;\">\n      <th></th>\n      <th>station</th>\n      <th>nom_estac</th>\n      <th>Zona</th>\n    </tr>\n  </thead>\n  <tbody>\n    <tr>\n      <th>0</th>\n      <td>ACO</td>\n      <td>Acolman</td>\n      <td>NE</td>\n    </tr>\n    <tr>\n      <th>1</th>\n      <td>AJU</td>\n      <td>Ajusco</td>\n      <td>SO</td>\n    </tr>\n    <tr>\n      <th>2</th>\n      <td>AJM</td>\n      <td>Ajusco Medio</td>\n      <td>SO</td>\n    </tr>\n    <tr>\n      <th>3</th>\n      <td>ATI</td>\n      <td>Atizapan</td>\n      <td>NO</td>\n    </tr>\n    <tr>\n      <th>4</th>\n      <td>BJU</td>\n      <td>Benito Ju�rez</td>\n      <td>CE</td>\n    </tr>\n  </tbody>\n</table>\n</div>"
     },
     "metadata": {},
     "execution_count": 17
    }
   ],
   "source": [
    "# Cargando dataset de zonas\n",
    "df_zonas = pd.read_csv('../Datasets/cat_estacion_depurado.csv')\n",
    "\n",
    "# Eliminando columna 'Unnamed: 0'\n",
    "df_zonas = df_zonas.drop(columns=['Unnamed: 0'])\n",
    "# Remplazando los - por NaN\n",
    "df_zonas = df_zonas.replace('-', np.nan)\n",
    "# Eliminando lo NaN's\n",
    "df_zonas = df_zonas.dropna(axis=0, how='any').reset_index(drop=True)\n",
    "# Renombrando la columna\n",
    "df_zonas = df_zonas.rename(columns={'cve_estac': 'station'})\n",
    "df_zonas.head()"
   ]
  },
  {
   "source": [
    "Uniendo los datos con las zonas correspondientes"
   ],
   "cell_type": "markdown",
   "metadata": {}
  },
  {
   "cell_type": "code",
   "execution_count": 18,
   "metadata": {},
   "outputs": [
    {
     "output_type": "execute_result",
     "data": {
      "text/plain": [
       "       FECHA  Year  Month  HORA station  measurement Zona\n",
       "0 2019-03-01  2019      3     1     AJM          8.0   SO\n",
       "1 2019-03-01  2019      3     2     AJM         19.0   SO\n",
       "2 2019-03-01  2019      3     3     AJM         29.0   SO\n",
       "3 2019-03-01  2019      3     4     AJM         28.0   SO\n",
       "4 2019-03-01  2019      3     5     AJM         26.0   SO"
      ],
      "text/html": "<div>\n<style scoped>\n    .dataframe tbody tr th:only-of-type {\n        vertical-align: middle;\n    }\n\n    .dataframe tbody tr th {\n        vertical-align: top;\n    }\n\n    .dataframe thead th {\n        text-align: right;\n    }\n</style>\n<table border=\"1\" class=\"dataframe\">\n  <thead>\n    <tr style=\"text-align: right;\">\n      <th></th>\n      <th>FECHA</th>\n      <th>Year</th>\n      <th>Month</th>\n      <th>HORA</th>\n      <th>station</th>\n      <th>measurement</th>\n      <th>Zona</th>\n    </tr>\n  </thead>\n  <tbody>\n    <tr>\n      <th>0</th>\n      <td>2019-03-01</td>\n      <td>2019</td>\n      <td>3</td>\n      <td>1</td>\n      <td>AJM</td>\n      <td>8.0</td>\n      <td>SO</td>\n    </tr>\n    <tr>\n      <th>1</th>\n      <td>2019-03-01</td>\n      <td>2019</td>\n      <td>3</td>\n      <td>2</td>\n      <td>AJM</td>\n      <td>19.0</td>\n      <td>SO</td>\n    </tr>\n    <tr>\n      <th>2</th>\n      <td>2019-03-01</td>\n      <td>2019</td>\n      <td>3</td>\n      <td>3</td>\n      <td>AJM</td>\n      <td>29.0</td>\n      <td>SO</td>\n    </tr>\n    <tr>\n      <th>3</th>\n      <td>2019-03-01</td>\n      <td>2019</td>\n      <td>3</td>\n      <td>4</td>\n      <td>AJM</td>\n      <td>28.0</td>\n      <td>SO</td>\n    </tr>\n    <tr>\n      <th>4</th>\n      <td>2019-03-01</td>\n      <td>2019</td>\n      <td>3</td>\n      <td>5</td>\n      <td>AJM</td>\n      <td>26.0</td>\n      <td>SO</td>\n    </tr>\n  </tbody>\n</table>\n</div>"
     },
     "metadata": {},
     "execution_count": 18
    }
   ],
   "source": [
    "df_PM25 = df_PM25.merge(df_zonas[['station', 'Zona']], on='station')\n",
    "df_PM25.head()"
   ]
  },
  {
   "source": [
    "Guardamos nuestro dataset de está partícula para el analisis de este modulo"
   ],
   "cell_type": "markdown",
   "metadata": {}
  },
  {
   "cell_type": "code",
   "execution_count": 19,
   "metadata": {},
   "outputs": [],
   "source": [
    "df_PM25.to_csv('../Datasets/PM2.5/PM25_depurado_melt.csv')"
   ]
  }
 ]
}